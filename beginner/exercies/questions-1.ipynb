{
 "cells": [
  {
   "cell_type": "markdown",
   "id": "80525020",
   "metadata": {},
   "source": [
    "### 1) Write a program to print multiplication table\n",
    "\n",
    "desired output\n",
    "```\n",
    " 1   2   3   4   5   6   7   8   9  \n",
    " 2   4   6   8  10  12  14  16  18  \n",
    " 3   6   9  12  15  18  21  24  27  \n",
    " 4   8  12  16  20  24  28  32  36  \n",
    " 5  10  15  20  25  30  35  40  45  \n",
    " 6  12  18  24  30  36  42  48  54  \n",
    " 7  14  21  28  35  42  49  56  63  \n",
    " 8  16  24  32  40  48  56  64  72  \n",
    " 9  18  27  36  45  54  63  72  81\n",
    "```"
   ]
  },
  {
   "cell_type": "code",
   "execution_count": null,
   "id": "17ff3661",
   "metadata": {},
   "outputs": [],
   "source": []
  },
  {
   "cell_type": "markdown",
   "id": "69ab1da6",
   "metadata": {},
   "source": [
    "### 2)  Write a program that receives three positive integers as input from the user and prints YES if it is possible to make a right-angled triangle with the length of the given sides, and NO otherwise.\n",
    "\n",
    "input\n",
    "```\n",
    "5\n",
    "4\n",
    "3\n",
    "```\n",
    "output\n",
    "```\n",
    "YES\n",
    "```"
   ]
  },
  {
   "cell_type": "code",
   "execution_count": null,
   "id": "f0cbd2db",
   "metadata": {},
   "outputs": [],
   "source": [
    "a = int(input())\n",
    "b = int(input())\n",
    "c = int(input())\n",
    "\n"
   ]
  },
  {
   "cell_type": "markdown",
   "id": "eb190cea",
   "metadata": {},
   "source": [
    "### 3) Write a program to print second power of numbers ($x^2$) between 10 to 20\n",
    "output\n",
    "```[100, 121, 144, 169, 196, 225, 256, 289, 324, 361, 400]```"
   ]
  },
  {
   "cell_type": "code",
   "execution_count": null,
   "id": "0100439a",
   "metadata": {},
   "outputs": [],
   "source": []
  },
  {
   "cell_type": "markdown",
   "id": "81a4ed9f",
   "metadata": {},
   "source": [
    "### 4) Write previous exercise with list comprehension"
   ]
  },
  {
   "cell_type": "code",
   "execution_count": null,
   "id": "fb71aa78",
   "metadata": {},
   "outputs": [],
   "source": []
  },
  {
   "cell_type": "markdown",
   "id": "7f01a3e9",
   "metadata": {},
   "source": [
    "### 5) Write a program that get a number from input and compute its factorial\n",
    "input\n",
    "```\n",
    "5\n",
    "```\n",
    "output\n",
    "```\n",
    "120\n",
    "```"
   ]
  },
  {
   "cell_type": "code",
   "execution_count": null,
   "id": "d9dac135",
   "metadata": {},
   "outputs": [],
   "source": []
  },
  {
   "cell_type": "code",
   "execution_count": null,
   "id": "7e917c11",
   "metadata": {},
   "outputs": [],
   "source": []
  },
  {
   "cell_type": "markdown",
   "id": "c3214f94",
   "metadata": {},
   "source": [
    "### 6) Given a string, print all words start with 'b' in upper case format"
   ]
  },
  {
   "cell_type": "code",
   "execution_count": 36,
   "id": "13548c6f",
   "metadata": {},
   "outputs": [
    {
     "data": {
      "text/plain": [
       "'Lorem ipsum dolor sit amet, consectetur adipiscing elit, 12 sed do eiusmod tempor incididunt ut labore et dolore magna aliqua. Ut enim ad minim veniam, 3quis nostrud exercitation 552 ullamco laboris nisi ut aliquip ex ea commodo consequat. Duis aute irure dolor in reprehenderit in voluptate velit esse cillum dolore eu fugiat nulla pariatur. Excepteur sint occaecat cupidatat non proident, sunt in culpa qui officia deserunt mollit anim id est laborum.'"
      ]
     },
     "execution_count": 36,
     "metadata": {},
     "output_type": "execute_result"
    }
   ],
   "source": [
    "txt = \"Lorem ipsum dolor sit amet, consectetur adipiscing elit, 12 sed do eiusmod tempor incididunt ut labore et dolore magna aliqua. Ut enim ad minim veniam, 3quis nostrud exercitation 552 ullamco laboris nisi ut aliquip ex ea commodo consequat. Duis aute irure dolor in reprehenderit in voluptate velit esse cillum dolore eu fugiat nulla pariatur. Excepteur sint occaecat cupidatat non proident, sunt in culpa qui officia deserunt mollit anim id est laborum.\"\n",
    "txt"
   ]
  },
  {
   "cell_type": "code",
   "execution_count": null,
   "id": "7cd9fbf2",
   "metadata": {},
   "outputs": [],
   "source": []
  },
  {
   "cell_type": "markdown",
   "id": "0de87e10",
   "metadata": {},
   "source": [
    "### 7) Given a stop words list, make the sentence above free of these words"
   ]
  },
  {
   "cell_type": "code",
   "execution_count": 38,
   "id": "8725f7b7",
   "metadata": {},
   "outputs": [],
   "source": [
    "stop_word = ['in' , 'ut' , 'ex' , 'ea' , 'the' , 'a' , 'an']"
   ]
  },
  {
   "cell_type": "code",
   "execution_count": null,
   "id": "00cbe6f0",
   "metadata": {},
   "outputs": [],
   "source": []
  },
  {
   "cell_type": "markdown",
   "id": "5cffca97",
   "metadata": {},
   "source": [
    "### 8) Make the sentence above free of symbols and special character (e.g: ! , @, #, $ , ...)"
   ]
  },
  {
   "cell_type": "code",
   "execution_count": null,
   "id": "c48a9fb1",
   "metadata": {},
   "outputs": [],
   "source": []
  },
  {
   "cell_type": "markdown",
   "id": "b1370b2b",
   "metadata": {},
   "source": [
    "### 9) Change number of spaces between spaces in a given text to one and also remove redundant spaces from the beginning and end of the string"
   ]
  },
  {
   "cell_type": "code",
   "execution_count": 46,
   "id": "baa0bb21",
   "metadata": {},
   "outputs": [
    {
     "data": {
      "text/plain": [
       "'        Lorem ipsum dolor sit amet consectetur adipiscing elit  sed do eiusmod tempor      incididunt ut labore et dolore magna aliqua Ut enim ad minim veniam quis nostrud exercitation  ullamco laboris nisi ut    aliquip ex ea commodo               consequat Duis          aute irure dolor in reprehenderit in voluptate velit esse cillum dolore eu fugiat nulla pariatur Excepteur sint occaecat         cupidatat non proident sunt in culpa qui officia           deserunt mollit anim id       est laborum'"
      ]
     },
     "execution_count": 46,
     "metadata": {},
     "output_type": "execute_result"
    }
   ],
   "source": [
    "txt = \"        Lorem ipsum dolor sit amet consectetur adipiscing elit  sed do eiusmod tempor      incididunt ut labore et dolore magna aliqua Ut enim ad minim veniam quis nostrud exercitation  ullamco laboris nisi ut    aliquip ex ea commodo               consequat Duis          aute irure dolor in reprehenderit in voluptate velit esse cillum dolore eu fugiat nulla pariatur Excepteur sint occaecat         cupidatat non proident sunt in culpa qui officia           deserunt mollit anim id       est laborum\"\n",
    "txt"
   ]
  },
  {
   "cell_type": "code",
   "execution_count": null,
   "id": "e0007f11",
   "metadata": {},
   "outputs": [],
   "source": []
  },
  {
   "cell_type": "code",
   "execution_count": null,
   "id": "8384e084",
   "metadata": {},
   "outputs": [],
   "source": []
  },
  {
   "cell_type": "code",
   "execution_count": null,
   "id": "5edb4eb2",
   "metadata": {},
   "outputs": [],
   "source": []
  }
 ],
 "metadata": {
  "kernelspec": {
   "display_name": "Python 3 (ipykernel)",
   "language": "python",
   "name": "python3"
  },
  "language_info": {
   "codemirror_mode": {
    "name": "ipython",
    "version": 3
   },
   "file_extension": ".py",
   "mimetype": "text/x-python",
   "name": "python",
   "nbconvert_exporter": "python",
   "pygments_lexer": "ipython3",
   "version": "3.8.0"
  }
 },
 "nbformat": 4,
 "nbformat_minor": 5
}
