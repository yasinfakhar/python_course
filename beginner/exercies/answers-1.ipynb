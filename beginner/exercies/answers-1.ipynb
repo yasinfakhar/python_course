{
 "cells": [
  {
   "cell_type": "markdown",
   "id": "80525020",
   "metadata": {},
   "source": [
    "### 1) Write a program to print multiplication table\n",
    "\n",
    "desired output\n",
    "```\n",
    " 1   2   3   4   5   6   7   8   9  \n",
    " 2   4   6   8  10  12  14  16  18  \n",
    " 3   6   9  12  15  18  21  24  27  \n",
    " 4   8  12  16  20  24  28  32  36  \n",
    " 5  10  15  20  25  30  35  40  45  \n",
    " 6  12  18  24  30  36  42  48  54  \n",
    " 7  14  21  28  35  42  49  56  63  \n",
    " 8  16  24  32  40  48  56  64  72  \n",
    " 9  18  27  36  45  54  63  72  81\n",
    "```"
   ]
  },
  {
   "cell_type": "code",
   "execution_count": 10,
   "id": "17ff3661",
   "metadata": {},
   "outputs": [
    {
     "name": "stdout",
     "output_type": "stream",
     "text": [
      " 1   2   3   4   5   6   7   8   9  \n",
      " 2   4   6   8  10  12  14  16  18  \n",
      " 3   6   9  12  15  18  21  24  27  \n",
      " 4   8  12  16  20  24  28  32  36  \n",
      " 5  10  15  20  25  30  35  40  45  \n",
      " 6  12  18  24  30  36  42  48  54  \n",
      " 7  14  21  28  35  42  49  56  63  \n",
      " 8  16  24  32  40  48  56  64  72  \n",
      " 9  18  27  36  45  54  63  72  81  \n"
     ]
    }
   ],
   "source": [
    "for row in range(1,10):\n",
    "    for column in range(1,10):\n",
    "        print(\"%2d \" % (row*column) , end=\" \")\n",
    "    print()"
   ]
  },
  {
   "cell_type": "markdown",
   "id": "381727dd",
   "metadata": {},
   "source": [
    "### 2)  Write a program that receives three positive integers as input from the user and prints YES if it is possible to make a right-angled triangle with the length of the given sides, and NO otherwise.\n",
    "\n",
    "input\n",
    "```\n",
    "5\n",
    "4\n",
    "3\n",
    "```\n",
    "output\n",
    "```\n",
    "YES\n",
    "```"
   ]
  },
  {
   "cell_type": "code",
   "execution_count": 4,
   "id": "eda9dfb5",
   "metadata": {},
   "outputs": [
    {
     "name": "stdout",
     "output_type": "stream",
     "text": [
      "Hypotenuse : 5\n",
      "one side of the triangle : 4\n",
      "another side of the triangle : 3\n",
      "YES\n"
     ]
    }
   ],
   "source": [
    "c = int(input(\"Hypotenuse : \"))\n",
    "b = int(input(\"one side of the triangle : \"))\n",
    "a = int(input(\"another side of the triangle : \"))\n",
    "if a**2 + b**2 == c**2:\n",
    "    print(\"YES\")\n",
    "else:\n",
    "    print(\"NO\")"
   ]
  },
  {
   "cell_type": "markdown",
   "id": "eb190cea",
   "metadata": {},
   "source": [
    "### 3) Write a program to print second power of numbers ($x^2$) between 10 to 20\n",
    "output\n",
    "```[100, 121, 144, 169, 196, 225, 256, 289, 324, 361, 400]```"
   ]
  },
  {
   "cell_type": "code",
   "execution_count": 12,
   "id": "0100439a",
   "metadata": {},
   "outputs": [
    {
     "data": {
      "text/plain": [
       "[100, 121, 144, 169, 196, 225, 256, 289, 324, 361, 400]"
      ]
     },
     "execution_count": 12,
     "metadata": {},
     "output_type": "execute_result"
    }
   ],
   "source": [
    "numbers = range(10,21)\n",
    "res = []\n",
    "for i in numbers:\n",
    "    res.append(i**2)\n",
    "res"
   ]
  },
  {
   "cell_type": "markdown",
   "id": "81a4ed9f",
   "metadata": {},
   "source": [
    "### 4) Write previous exercise with list comprehension"
   ]
  },
  {
   "cell_type": "code",
   "execution_count": 16,
   "id": "fb71aa78",
   "metadata": {},
   "outputs": [
    {
     "data": {
      "text/plain": [
       "[100, 121, 144, 169, 196, 225, 256, 289, 324, 361, 400]"
      ]
     },
     "execution_count": 16,
     "metadata": {},
     "output_type": "execute_result"
    }
   ],
   "source": [
    "numbers = range(10,21)\n",
    "[x**2 for x in numbers]"
   ]
  },
  {
   "cell_type": "markdown",
   "id": "64a0b683",
   "metadata": {},
   "source": [
    "### 5) Write a program that get a number from input and compute its factorial\n",
    "input\n",
    "```\n",
    "5\n",
    "```\n",
    "output\n",
    "```\n",
    "120\n",
    "```"
   ]
  },
  {
   "cell_type": "code",
   "execution_count": 9,
   "id": "847651aa",
   "metadata": {},
   "outputs": [
    {
     "name": "stdout",
     "output_type": "stream",
     "text": [
      "5\n"
     ]
    },
    {
     "data": {
      "text/plain": [
       "120"
      ]
     },
     "execution_count": 9,
     "metadata": {},
     "output_type": "execute_result"
    }
   ],
   "source": [
    "num = int(input())\n",
    "res = 1\n",
    "for i in range(2,num+1):\n",
    "    res *= i\n",
    "res"
   ]
  },
  {
   "cell_type": "code",
   "execution_count": 17,
   "id": "2bf9f2d8",
   "metadata": {},
   "outputs": [
    {
     "name": "stdout",
     "output_type": "stream",
     "text": [
      "5\n"
     ]
    },
    {
     "data": {
      "text/plain": [
       "120"
      ]
     },
     "execution_count": 17,
     "metadata": {},
     "output_type": "execute_result"
    }
   ],
   "source": [
    "import math\n",
    "num = int(input())\n",
    "math.prod(range(1,num+1))"
   ]
  },
  {
   "cell_type": "markdown",
   "id": "bafa8c6b",
   "metadata": {},
   "source": [
    "### 6) Given a string, print all words start with 'b' in upper case format"
   ]
  },
  {
   "cell_type": "code",
   "execution_count": 36,
   "id": "1feb9eff",
   "metadata": {},
   "outputs": [
    {
     "data": {
      "text/plain": [
       "'Lorem ipsum dolor sit amet, consectetur adipiscing elit, 12 sed do eiusmod tempor incididunt ut labore et dolore magna aliqua. Ut enim ad minim veniam, 3quis nostrud exercitation 552 ullamco laboris nisi ut aliquip ex ea commodo consequat. Duis aute irure dolor in reprehenderit in voluptate velit esse cillum dolore eu fugiat nulla pariatur. Excepteur sint occaecat cupidatat non proident, sunt in culpa qui officia deserunt mollit anim id est laborum.'"
      ]
     },
     "execution_count": 36,
     "metadata": {},
     "output_type": "execute_result"
    }
   ],
   "source": [
    "txt = \"Lorem ipsum dolor sit amet, consectetur adipiscing elit, 12 sed do eiusmod tempor incididunt ut labore et dolore magna aliqua. Ut enim ad minim veniam, 3quis nostrud exercitation 552 ullamco laboris nisi ut aliquip ex ea commodo consequat. Duis aute irure dolor in reprehenderit in voluptate velit esse cillum dolore eu fugiat nulla pariatur. Excepteur sint occaecat cupidatat non proident, sunt in culpa qui officia deserunt mollit anim id est laborum.\"\n",
    "txt"
   ]
  },
  {
   "cell_type": "code",
   "execution_count": 37,
   "id": "65c20063",
   "metadata": {},
   "outputs": [
    {
     "name": "stdout",
     "output_type": "stream",
     "text": [
      "LABORE\n",
      "LABORIS\n",
      "LABORUM.\n"
     ]
    }
   ],
   "source": [
    "for word in txt.split(): \n",
    "    if word.startswith('l'):\n",
    "        print(word.upper())"
   ]
  },
  {
   "cell_type": "markdown",
   "id": "20672700",
   "metadata": {},
   "source": [
    "### 7) Given a stop words list, make the sentence above free of these words"
   ]
  },
  {
   "cell_type": "code",
   "execution_count": 38,
   "id": "954d31eb",
   "metadata": {},
   "outputs": [],
   "source": [
    "stop_word = ['in' , 'ut' , 'ex' , 'ea' , 'the' , 'a' , 'an']"
   ]
  },
  {
   "cell_type": "code",
   "execution_count": 39,
   "id": "40058af4",
   "metadata": {},
   "outputs": [
    {
     "name": "stdout",
     "output_type": "stream",
     "text": [
      "71\n",
      "64\n"
     ]
    },
    {
     "data": {
      "text/plain": [
       "'Lorem ipsum dolor sit amet, consectetur adipiscing elit, 12 sed do eiusmod tempor incididunt labore et dolore magna aliqua. Ut enim ad minim veniam, 3quis nostrud exercitation 552 ullamco laboris nisi aliquip commodo consequat. Duis aute irure dolor reprehenderit voluptate velit esse cillum dolore eu fugiat nulla pariatur. Excepteur sint occaecat cupidatat non proident, sunt culpa qui officia deserunt mollit anim id est laborum. '"
      ]
     },
     "execution_count": 39,
     "metadata": {},
     "output_type": "execute_result"
    }
   ],
   "source": [
    "print(len(txt.split()))\n",
    "res = \"\"\n",
    "for word in txt.split():\n",
    "    if word not in stop_word:\n",
    "        res += word + \" \"\n",
    "print(len(res.split()))\n",
    "res"
   ]
  },
  {
   "cell_type": "markdown",
   "id": "e6fa4802",
   "metadata": {},
   "source": [
    "### 8) Make the sentence above free of symbols and special character (e.g: ! , @, #, $ , ...)"
   ]
  },
  {
   "cell_type": "code",
   "execution_count": 43,
   "id": "d23b8c16",
   "metadata": {},
   "outputs": [
    {
     "data": {
      "text/plain": [
       "'Lorem ipsum dolor sit amet consectetur adipiscing elit  sed do eiusmod tempor incididunt ut labore et dolore magna aliqua Ut enim ad minim veniam quis nostrud exercitation  ullamco laboris nisi ut aliquip ex ea commodo consequat Duis aute irure dolor in reprehenderit in voluptate velit esse cillum dolore eu fugiat nulla pariatur Excepteur sint occaecat cupidatat non proident sunt in culpa qui officia deserunt mollit anim id est laborum'"
      ]
     },
     "execution_count": 43,
     "metadata": {},
     "output_type": "execute_result"
    }
   ],
   "source": [
    "res = \"\"\n",
    "for letter in txt:\n",
    "    if letter.isspace():\n",
    "        res += \" \"\n",
    "    if letter.isalpha():\n",
    "        res += letter\n",
    "res"
   ]
  },
  {
   "cell_type": "markdown",
   "id": "804c8eee",
   "metadata": {},
   "source": [
    "### 9) Change number of spaces between spaces in a given text to one and also remove redundant spaces from the beginning and end of the string"
   ]
  },
  {
   "cell_type": "code",
   "execution_count": 46,
   "id": "3c30c014",
   "metadata": {},
   "outputs": [
    {
     "data": {
      "text/plain": [
       "'        Lorem ipsum dolor sit amet consectetur adipiscing elit  sed do eiusmod tempor      incididunt ut labore et dolore magna aliqua Ut enim ad minim veniam quis nostrud exercitation  ullamco laboris nisi ut    aliquip ex ea commodo               consequat Duis          aute irure dolor in reprehenderit in voluptate velit esse cillum dolore eu fugiat nulla pariatur Excepteur sint occaecat         cupidatat non proident sunt in culpa qui officia           deserunt mollit anim id       est laborum'"
      ]
     },
     "execution_count": 46,
     "metadata": {},
     "output_type": "execute_result"
    }
   ],
   "source": [
    "txt = \"        Lorem ipsum dolor sit amet consectetur adipiscing elit  sed do eiusmod tempor      incididunt ut labore et dolore magna aliqua Ut enim ad minim veniam quis nostrud exercitation  ullamco laboris nisi ut    aliquip ex ea commodo               consequat Duis          aute irure dolor in reprehenderit in voluptate velit esse cillum dolore eu fugiat nulla pariatur Excepteur sint occaecat         cupidatat non proident sunt in culpa qui officia           deserunt mollit anim id       est laborum\"\n",
    "txt"
   ]
  },
  {
   "cell_type": "code",
   "execution_count": 52,
   "id": "356e07b2",
   "metadata": {},
   "outputs": [
    {
     "data": {
      "text/plain": [
       "'Lorem ipsum dolor sit amet consectetur adipiscing elit sed do eiusmod tempor incididunt ut labore et dolore magna aliqua Ut enim ad minim veniam quis nostrud exercitation ullamco laboris nisi ut aliquip ex ea commodo consequat Duis aute irure dolor in reprehenderit in voluptate velit esse cillum dolore eu fugiat nulla pariatur Excepteur sint occaecat cupidatat non proident sunt in culpa qui officia deserunt mollit anim id est laborum '"
      ]
     },
     "execution_count": 52,
     "metadata": {},
     "output_type": "execute_result"
    }
   ],
   "source": [
    "res = \"\"\n",
    "for word in txt.split():\n",
    "    res += word + \" \"\n",
    "res"
   ]
  },
  {
   "cell_type": "code",
   "execution_count": 57,
   "id": "82b7a4a3",
   "metadata": {},
   "outputs": [
    {
     "data": {
      "text/plain": [
       "'Lorem ipsum dolor sit amet consectetur adipiscing elit sed do eiusmod tempor incididunt ut labore et dolore magna aliqua Ut enim ad minim veniam quis nostrud exercitation ullamco laboris nisi ut aliquip ex ea commodo consequat Duis aute irure dolor in reprehenderit in voluptate velit esse cillum dolore eu fugiat nulla pariatur Excepteur sint occaecat cupidatat non proident sunt in culpa qui officia deserunt mollit anim id est laborum'"
      ]
     },
     "execution_count": 57,
     "metadata": {},
     "output_type": "execute_result"
    }
   ],
   "source": [
    "\" \".join(txt.split())"
   ]
  },
  {
   "cell_type": "code",
   "execution_count": null,
   "id": "14cbd621",
   "metadata": {},
   "outputs": [],
   "source": []
  }
 ],
 "metadata": {
  "kernelspec": {
   "display_name": "Python 3 (ipykernel)",
   "language": "python",
   "name": "python3"
  },
  "language_info": {
   "codemirror_mode": {
    "name": "ipython",
    "version": 3
   },
   "file_extension": ".py",
   "mimetype": "text/x-python",
   "name": "python",
   "nbconvert_exporter": "python",
   "pygments_lexer": "ipython3",
   "version": "3.8.0"
  }
 },
 "nbformat": 4,
 "nbformat_minor": 5
}
