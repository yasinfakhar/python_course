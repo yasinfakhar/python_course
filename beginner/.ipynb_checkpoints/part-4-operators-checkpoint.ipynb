{
 "cells": [
  {
   "cell_type": "markdown",
   "id": "0ad224e8",
   "metadata": {},
   "source": [
    "Operators are used to perform operations on variables and values.\n",
    "Operators in Python:\n",
    "* Arithmetic operators\n",
    "* Assignment operators\n",
    "* Comparison operators\n",
    "* Logical operators\n",
    "* Identity operators\n",
    "* Membership operators\n",
    "* Bitwise operators"
   ]
  },
  {
   "cell_type": "markdown",
   "id": "72e337d1",
   "metadata": {},
   "source": [
    "## Arithmetic Operators"
   ]
  },
  {
   "cell_type": "code",
   "execution_count": 1,
   "id": "59d253bb",
   "metadata": {},
   "outputs": [
    {
     "name": "stdout",
     "output_type": "stream",
     "text": [
      "15\n",
      "9\n",
      "36\n",
      "1.7142857142857142\n",
      "2\n",
      "1728\n",
      "2\n"
     ]
    }
   ],
   "source": [
    "print(12 + 3)\n",
    "print(12 - 3)\n",
    "print(12 * 3)\n",
    "print(12 / 7)\n",
    "print(12 % 5)\n",
    "print(12 ** 3)\n",
    "print(12 // 5)"
   ]
  },
  {
   "cell_type": "markdown",
   "id": "d716d0ed",
   "metadata": {},
   "source": [
    "## Assignment Operators"
   ]
  },
  {
   "cell_type": "code",
   "execution_count": 35,
   "id": "988e6627",
   "metadata": {},
   "outputs": [],
   "source": [
    "x = 5    #x = 5\n",
    "x += 3   #x = x + 3\n",
    "x -= 3   #x = x - 3\n",
    "x *= 3   #x = x * 3\n",
    "x /= 3   #x = x / 3\n",
    "x %= 3   #x = x % 3\n",
    "x //= 3  #x = x // 3\n",
    "x **= 3  #x = x ** 3"
   ]
  },
  {
   "cell_type": "code",
   "execution_count": null,
   "id": "1c89c87e",
   "metadata": {},
   "outputs": [],
   "source": [
    "# see Bitwise Operators\n",
    "x = 12\n",
    "x &= 3   #x = x & 3\n",
    "x |= 3   #x = x | 3\n",
    "x ^= 3   #x = x ^ 3\n",
    "x >>= 3  #x = x >> 3\n",
    "x <<= 3  #x = x << 3"
   ]
  },
  {
   "cell_type": "markdown",
   "id": "e7b83aeb",
   "metadata": {},
   "source": [
    "## Comparison Operators"
   ]
  },
  {
   "cell_type": "code",
   "execution_count": 9,
   "id": "94c7e405",
   "metadata": {},
   "outputs": [
    {
     "name": "stdout",
     "output_type": "stream",
     "text": [
      "False\n",
      "True\n",
      "False\n",
      "True\n",
      "False\n",
      "True\n",
      "True\n"
     ]
    }
   ],
   "source": [
    "x , y = 5, 1\n",
    "print(x == y)\n",
    "print(x > y)\n",
    "print(x < y)\n",
    "print(x >= y)\n",
    "print(x <= y)\n",
    "print(x >= y)\n",
    "print(x != y)"
   ]
  },
  {
   "cell_type": "markdown",
   "id": "ba6bcfb3",
   "metadata": {},
   "source": [
    "## Logical Operators\n",
    "<img src=\"assets/logical_table.png\" />"
   ]
  },
  {
   "cell_type": "code",
   "execution_count": 10,
   "id": "45225d90",
   "metadata": {},
   "outputs": [
    {
     "name": "stdout",
     "output_type": "stream",
     "text": [
      "False\n",
      "True\n",
      "False\n"
     ]
    }
   ],
   "source": [
    "x , y = 5, 1\n",
    "\n",
    "print(x>y and x<2)\n",
    "print(x>y or x<2)\n",
    "print(not x>y)"
   ]
  },
  {
   "cell_type": "markdown",
   "id": "7097c214",
   "metadata": {},
   "source": [
    "## Identity Operators\n",
    "* `is` \tReturns True if both variables are the same object\n",
    "\n",
    "* `is not`\tReturns True if both variables are not the same object"
   ]
  },
  {
   "cell_type": "code",
   "execution_count": 17,
   "id": "514520d0",
   "metadata": {},
   "outputs": [
    {
     "name": "stdout",
     "output_type": "stream",
     "text": [
      "False\n",
      "False\n",
      "True\n",
      "True\n"
     ]
    }
   ],
   "source": [
    "x = 5\n",
    "y = \"hi\"\n",
    "z = -14\n",
    "h = x\n",
    "\n",
    "print(x is y)\n",
    "print(x is z)\n",
    "print(x is h)\n",
    "print(x is not y)"
   ]
  },
  {
   "cell_type": "markdown",
   "id": "0db5eb2d",
   "metadata": {},
   "source": [
    "Important note"
   ]
  },
  {
   "cell_type": "code",
   "execution_count": 20,
   "id": "70095950",
   "metadata": {},
   "outputs": [
    {
     "name": "stdout",
     "output_type": "stream",
     "text": [
      "['peach', 'banana']\n",
      "['peach', 'banana']\n"
     ]
    }
   ],
   "source": [
    "x = [\"apple\", \"banana\"]\n",
    "\n",
    "z = x\n",
    "z[0] = \"peach\"\n",
    "print(x)\n",
    "print(z)"
   ]
  },
  {
   "cell_type": "markdown",
   "id": "33c40341",
   "metadata": {},
   "source": [
    "## Membership Operators\n",
    "* `in` \tReturns True if a sequence with the specified value is present in the object\n",
    "\n",
    "* `not in`\tReturns True if a sequence with the specified value is not present in the object"
   ]
  },
  {
   "cell_type": "code",
   "execution_count": 23,
   "id": "4b591fc0",
   "metadata": {},
   "outputs": [
    {
     "name": "stdout",
     "output_type": "stream",
     "text": [
      "True\n",
      "False\n"
     ]
    }
   ],
   "source": [
    "print('llo' in 'hello')\n",
    "print(12 not in [12,11,14])"
   ]
  },
  {
   "cell_type": "markdown",
   "id": "38aa4f22",
   "metadata": {},
   "source": [
    "## Bitwise Operators"
   ]
  },
  {
   "cell_type": "code",
   "execution_count": 34,
   "id": "dcb3dfdf",
   "metadata": {},
   "outputs": [
    {
     "name": "stdout",
     "output_type": "stream",
     "text": [
      "bitwise AND :  4\n",
      "bitwise OR :  13\n",
      "bitwise XOR :  9\n",
      "shift to right :  3\n",
      "shift to left :  48\n"
     ]
    }
   ],
   "source": [
    "a = 12 #1100\n",
    "b = 5  #0101\n",
    "\n",
    "print('bitwise AND : ' ,a & b) \n",
    "print('bitwise OR : ' ,a | b)\n",
    "print('bitwise XOR : ' ,a ^ b)\n",
    "print('shift to right : ' ,  a>>2)\n",
    "print('shift to left : ' ,  a<<2)"
   ]
  }
 ],
 "metadata": {
  "kernelspec": {
   "display_name": "Python 3 (ipykernel)",
   "language": "python",
   "name": "python3"
  },
  "language_info": {
   "codemirror_mode": {
    "name": "ipython",
    "version": 3
   },
   "file_extension": ".py",
   "mimetype": "text/x-python",
   "name": "python",
   "nbconvert_exporter": "python",
   "pygments_lexer": "ipython3",
   "version": "3.8.0"
  }
 },
 "nbformat": 4,
 "nbformat_minor": 5
}
