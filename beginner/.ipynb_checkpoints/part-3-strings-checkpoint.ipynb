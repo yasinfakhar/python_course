{
 "cells": [
  {
   "cell_type": "markdown",
   "id": "d7fe7178",
   "metadata": {},
   "source": [
    "Strings in python are surrounded by either single quotation marks, double, or triple quotation marks."
   ]
  },
  {
   "cell_type": "code",
   "execution_count": 3,
   "id": "26af2822",
   "metadata": {},
   "outputs": [
    {
     "name": "stdout",
     "output_type": "stream",
     "text": [
      "hi\n",
      "hi\n",
      "hi\n",
      "hi\n"
     ]
    }
   ],
   "source": [
    "a = 'hi'\n",
    "b = \"hi\"\n",
    "c = \"\"\"hi\"\"\"\n",
    "d = '''hi'''\n",
    "\n",
    "print(a)\n",
    "print(b)\n",
    "print(c)\n",
    "print(d)"
   ]
  },
  {
   "cell_type": "code",
   "execution_count": 2,
   "id": "24bd1689",
   "metadata": {},
   "outputs": [
    {
     "name": "stdout",
     "output_type": "stream",
     "text": [
      "Lorem ipsum dolor sit amet,\n",
      "consectetur adipiscing elit,\n",
      "sed do eiusmod tempor incididunt\n",
      "ut labore et dolore magna aliqua.\n"
     ]
    }
   ],
   "source": [
    "a = \"\"\"Lorem ipsum dolor sit amet,\n",
    "consectetur adipiscing elit,\n",
    "sed do eiusmod tempor incididunt\n",
    "ut labore et dolore magna aliqua.\"\"\"\n",
    "print(a)"
   ]
  },
  {
   "cell_type": "markdown",
   "id": "e399afe3",
   "metadata": {},
   "source": [
    "## Strings are Arrays"
   ]
  },
  {
   "cell_type": "markdown",
   "id": "36d5de35",
   "metadata": {},
   "source": [
    "Like many other popular programming languages, strings in Python are arrays of bytes representing unicode characters.\n",
    "\n",
    "However, Python does not have a character data type, a single character is simply a string with a length of 1.\n",
    "\n",
    "Square brackets can be used to access elements of the string."
   ]
  },
  {
   "cell_type": "code",
   "execution_count": 4,
   "id": "42810c0a",
   "metadata": {},
   "outputs": [
    {
     "name": "stdout",
     "output_type": "stream",
     "text": [
      "e\n"
     ]
    }
   ],
   "source": [
    "a = \"Hello, World!\"\n",
    "print(a[1])"
   ]
  },
  {
   "cell_type": "markdown",
   "id": "b7004b85",
   "metadata": {},
   "source": [
    "## String Length\n",
    "To get the length of a string, use the `len()` function."
   ]
  },
  {
   "cell_type": "code",
   "execution_count": 5,
   "id": "e06e6dce",
   "metadata": {},
   "outputs": [
    {
     "name": "stdout",
     "output_type": "stream",
     "text": [
      "13\n"
     ]
    }
   ],
   "source": [
    "a = \"Hello, World!\"\n",
    "print(len(a))"
   ]
  },
  {
   "cell_type": "markdown",
   "id": "684bfb66",
   "metadata": {},
   "source": [
    "## Check String\n",
    "To check if a certain phrase or character is present in a string, we can use the keyword `in`."
   ]
  },
  {
   "cell_type": "code",
   "execution_count": 7,
   "id": "09a0b402",
   "metadata": {},
   "outputs": [
    {
     "name": "stdout",
     "output_type": "stream",
     "text": [
      "True\n",
      "True\n"
     ]
    }
   ],
   "source": [
    "txt = \"The best things in life are free!\"\n",
    "print(\"free\" in txt)\n",
    "print(\"barana\" not in txt)"
   ]
  },
  {
   "cell_type": "markdown",
   "id": "f1d281d8",
   "metadata": {},
   "source": [
    "## Slicing\n",
    "You can return a range of characters by using the slice syntax.\n",
    "\n",
    "Specify the start index and the end index, separated by a colon, to return a part of the string."
   ]
  },
  {
   "cell_type": "code",
   "execution_count": 2,
   "id": "7feaaa55",
   "metadata": {},
   "outputs": [
    {
     "name": "stdout",
     "output_type": "stream",
     "text": [
      "The\n",
      "The b\n",
      "life are free!\n",
      "The best things in life are free!\n"
     ]
    }
   ],
   "source": [
    "txt = \"The best things in life are free!\"\n",
    "\n",
    "print(txt[0:3])\n",
    "print(txt[:5])\n",
    "print(txt[19:])\n",
    "print(txt[:])"
   ]
  },
  {
   "cell_type": "code",
   "execution_count": 11,
   "id": "9198a351",
   "metadata": {},
   "outputs": [
    {
     "name": "stdout",
     "output_type": "stream",
     "text": [
      "The best things in life are free!\n"
     ]
    }
   ],
   "source": [
    "print(txt[:])"
   ]
  },
  {
   "cell_type": "markdown",
   "id": "b5506ab4",
   "metadata": {},
   "source": [
    "Use negative indexes to start the slice from the end of the string (but remember inverse indexing start from 1 not 0)"
   ]
  },
  {
   "cell_type": "code",
   "execution_count": 5,
   "id": "f1449959",
   "metadata": {},
   "outputs": [
    {
     "name": "stdout",
     "output_type": "stream",
     "text": [
      "are\n",
      "\n"
     ]
    }
   ],
   "source": [
    "txt = \"The best things in life are free!\"\n",
    "print(txt[-9:-6])\n",
    "print(txt[-6:-9]) #wrong"
   ]
  },
  {
   "cell_type": "markdown",
   "id": "acdbe7ba",
   "metadata": {},
   "source": [
    "## Upper Case"
   ]
  },
  {
   "cell_type": "code",
   "execution_count": 17,
   "id": "114b9cb6",
   "metadata": {},
   "outputs": [
    {
     "name": "stdout",
     "output_type": "stream",
     "text": [
      "HELLO, WORLD!\n"
     ]
    }
   ],
   "source": [
    "a = \"Hello, World!\"\n",
    "print(a.upper())"
   ]
  },
  {
   "cell_type": "markdown",
   "id": "910597fc",
   "metadata": {},
   "source": [
    "## Lower Case"
   ]
  },
  {
   "cell_type": "code",
   "execution_count": 19,
   "id": "621fa53f",
   "metadata": {},
   "outputs": [
    {
     "name": "stdout",
     "output_type": "stream",
     "text": [
      "hello, world!\n"
     ]
    }
   ],
   "source": [
    "a = \"Hello, World!\"\n",
    "print(a.lower())"
   ]
  },
  {
   "cell_type": "markdown",
   "id": "7f7a1cf3",
   "metadata": {},
   "source": [
    "## Remove Whitespace\n",
    "Whitespace is the space before and/or after the actual text, and very often you want to remove this space."
   ]
  },
  {
   "cell_type": "code",
   "execution_count": 21,
   "id": "310fe97b",
   "metadata": {},
   "outputs": [
    {
     "name": "stdout",
     "output_type": "stream",
     "text": [
      "Hello, World!\n"
     ]
    }
   ],
   "source": [
    "a = \" Hello, World!        \"\n",
    "print(a.strip())"
   ]
  },
  {
   "cell_type": "code",
   "execution_count": 13,
   "id": "bceea465",
   "metadata": {},
   "outputs": [
    {
     "data": {
      "text/plain": [
       "'Hello, World!'"
      ]
     },
     "execution_count": 13,
     "metadata": {},
     "output_type": "execute_result"
    }
   ],
   "source": [
    "\" Hello, World!        \".strip()"
   ]
  },
  {
   "cell_type": "markdown",
   "id": "c4e9e3e0",
   "metadata": {},
   "source": [
    "## Replace String"
   ]
  },
  {
   "cell_type": "code",
   "execution_count": 23,
   "id": "bf09b8db",
   "metadata": {},
   "outputs": [
    {
     "name": "stdout",
     "output_type": "stream",
     "text": [
      "Jello, Ji!\n"
     ]
    }
   ],
   "source": [
    "a = \"Hello, Hi!\"\n",
    "print(a.replace(\"H\", \"J\"))"
   ]
  },
  {
   "cell_type": "markdown",
   "id": "ea14339f",
   "metadata": {},
   "source": [
    "## Split String\n",
    "The `split()` method returns a list where the text between the specified separator becomes the list items."
   ]
  },
  {
   "cell_type": "code",
   "execution_count": 17,
   "id": "a4bb09ce",
   "metadata": {},
   "outputs": [
    {
     "name": "stdout",
     "output_type": "stream",
     "text": [
      "['He', '', 'o, Wor', 'd!']\n"
     ]
    }
   ],
   "source": [
    "a = \"Hello, World!\"\n",
    "print(a.split(\"l\")) "
   ]
  },
  {
   "cell_type": "markdown",
   "id": "1ae9a098",
   "metadata": {},
   "source": [
    "## String Concatenation"
   ]
  },
  {
   "cell_type": "code",
   "execution_count": 25,
   "id": "721c582b",
   "metadata": {},
   "outputs": [
    {
     "name": "stdout",
     "output_type": "stream",
     "text": [
      "HelloWorld\n"
     ]
    }
   ],
   "source": [
    "a = \"Hello\"\n",
    "b = \"World\"\n",
    "c = a + b\n",
    "print(c)"
   ]
  },
  {
   "cell_type": "markdown",
   "id": "2f952a90",
   "metadata": {},
   "source": [
    "## String Repetition"
   ]
  },
  {
   "cell_type": "code",
   "execution_count": 18,
   "id": "32208352",
   "metadata": {},
   "outputs": [
    {
     "name": "stdout",
     "output_type": "stream",
     "text": [
      "***\n"
     ]
    }
   ],
   "source": [
    "a = \"*\"\n",
    "b = 3 * a\n",
    "print(b)"
   ]
  },
  {
   "cell_type": "markdown",
   "id": "e80641e3",
   "metadata": {},
   "source": [
    "## String Format\n",
    "we cannot combine strings and numbers like this:"
   ]
  },
  {
   "cell_type": "code",
   "execution_count": 26,
   "id": "3b950694",
   "metadata": {},
   "outputs": [
    {
     "ename": "TypeError",
     "evalue": "can only concatenate str (not \"int\") to str",
     "output_type": "error",
     "traceback": [
      "\u001b[1;31m---------------------------------------------------------------------------\u001b[0m",
      "\u001b[1;31mTypeError\u001b[0m                                 Traceback (most recent call last)",
      "Cell \u001b[1;32mIn [26], line 2\u001b[0m\n\u001b[0;32m      1\u001b[0m age \u001b[38;5;241m=\u001b[39m \u001b[38;5;241m36\u001b[39m\n\u001b[1;32m----> 2\u001b[0m txt \u001b[38;5;241m=\u001b[39m \u001b[38;5;124;43m\"\u001b[39;49m\u001b[38;5;124;43mMy name is John, I am \u001b[39;49m\u001b[38;5;124;43m\"\u001b[39;49m\u001b[43m \u001b[49m\u001b[38;5;241;43m+\u001b[39;49m\u001b[43m \u001b[49m\u001b[43mage\u001b[49m\n\u001b[0;32m      3\u001b[0m \u001b[38;5;28mprint\u001b[39m(txt)\n",
      "\u001b[1;31mTypeError\u001b[0m: can only concatenate str (not \"int\") to str"
     ]
    }
   ],
   "source": [
    "age = 36\n",
    "txt = \"My name is John, I am \" + age\n",
    "print(txt)"
   ]
  },
  {
   "cell_type": "markdown",
   "id": "e8b60808",
   "metadata": {},
   "source": [
    "But we can combine strings and numbers by using the `format()` method!\n",
    "\n",
    "The `format()` method takes the passed arguments, formats them, and places them in the string where the placeholders `{}` are:"
   ]
  },
  {
   "cell_type": "code",
   "execution_count": 29,
   "id": "12e795b4",
   "metadata": {},
   "outputs": [
    {
     "name": "stdout",
     "output_type": "stream",
     "text": [
      "My name is John, and I am 36\n"
     ]
    }
   ],
   "source": [
    "age = 36\n",
    "txt = \"My name is John, and I am {}\"\n",
    "print(txt.format(age))"
   ]
  },
  {
   "cell_type": "code",
   "execution_count": 32,
   "id": "cab7123b",
   "metadata": {},
   "outputs": [
    {
     "name": "stdout",
     "output_type": "stream",
     "text": [
      "my name is John Lenend\n"
     ]
    }
   ],
   "source": [
    "name = \"John\"\n",
    "family = \"Lenend\"\n",
    "txt = \"my name is {} {}\"\n",
    "print(txt.format(name , family))"
   ]
  },
  {
   "cell_type": "code",
   "execution_count": 33,
   "id": "3ffdc0e2",
   "metadata": {},
   "outputs": [
    {
     "name": "stdout",
     "output_type": "stream",
     "text": [
      "I want to pay 49.95 dollars for 3 pieces of item 567.\n"
     ]
    }
   ],
   "source": [
    "quantity = 3\n",
    "itemno = 567\n",
    "price = 49.95\n",
    "myorder = \"I want to pay {2} dollars for {0} pieces of item {1}.\"\n",
    "print(myorder.format(quantity, itemno, price))"
   ]
  },
  {
   "cell_type": "code",
   "execution_count": 34,
   "id": "96d829c0",
   "metadata": {},
   "outputs": [
    {
     "name": "stdout",
     "output_type": "stream",
     "text": [
      "I have a Ford, it is a Mustang.\n"
     ]
    }
   ],
   "source": [
    "myorder = \"I have a {carname}, it is a {model}.\"\n",
    "print(myorder.format(carname = \"Ford\", model = \"Mustang\"))"
   ]
  },
  {
   "cell_type": "code",
   "execution_count": 20,
   "id": "3df5647a",
   "metadata": {},
   "outputs": [
    {
     "name": "stdout",
     "output_type": "stream",
     "text": [
      "my name is {name} {family}\n"
     ]
    }
   ],
   "source": [
    "name = \"John\"\n",
    "family = \"Lenend\"\n",
    "txt = f\"my name is {name} {family}\"\n",
    "print(txt)"
   ]
  },
  {
   "cell_type": "markdown",
   "id": "08be9758",
   "metadata": {},
   "source": [
    "%s - String (or any object with a string representation, like numbers)\n",
    "\n",
    "%d - Integers\n",
    "\n",
    "%f - Floating point numbers\n",
    "\n",
    "%.<number of digits>f - Floating point numbers with a fixed amount of digits to the right of the dot.\n",
    "\n",
    "%x/%X - Integers in hex representation (lowercase/uppercase)"
   ]
  },
  {
   "cell_type": "code",
   "execution_count": 21,
   "id": "0fead6f1",
   "metadata": {},
   "outputs": [
    {
     "name": "stdout",
     "output_type": "stream",
     "text": [
      "name : John\n"
     ]
    }
   ],
   "source": [
    "name = \"John\"\n",
    "print(\"name : %s\" % name )"
   ]
  },
  {
   "cell_type": "code",
   "execution_count": 41,
   "id": "88df58bd",
   "metadata": {},
   "outputs": [
    {
     "name": "stdout",
     "output_type": "stream",
     "text": [
      "name : John Legend\n"
     ]
    }
   ],
   "source": [
    "name = \"John\"\n",
    "family = \"Legend\"\n",
    "print(\"name : %s %s\" % (name , family))"
   ]
  },
  {
   "cell_type": "code",
   "execution_count": 47,
   "id": "37a9706a",
   "metadata": {},
   "outputs": [
    {
     "name": "stdout",
     "output_type": "stream",
     "text": [
      "you grade is : 15.237\n"
     ]
    }
   ],
   "source": [
    "grade = 15.2367354\n",
    "print(\"you grade is : %.3f\" % grade)"
   ]
  },
  {
   "cell_type": "code",
   "execution_count": 51,
   "id": "a3e11959",
   "metadata": {},
   "outputs": [
    {
     "name": "stdout",
     "output_type": "stream",
     "text": [
      "I have 00150$\n"
     ]
    }
   ],
   "source": [
    "amount = 150\n",
    "print(\"I have %05d$\" % amount)"
   ]
  },
  {
   "cell_type": "code",
   "execution_count": 58,
   "id": "aa97a817",
   "metadata": {},
   "outputs": [
    {
     "name": "stdout",
     "output_type": "stream",
     "text": [
      "my name is John      \n",
      "my name is       John\n"
     ]
    }
   ],
   "source": [
    "name = \"John\"\n",
    "print(\"my name is %-10s\" % name)\n",
    "print(\"my name is %10s\" % name)"
   ]
  },
  {
   "cell_type": "markdown",
   "id": "0a414d34",
   "metadata": {},
   "source": [
    "## Escape Character\n",
    "To insert characters that are illegal in a string, use an escape character.\n",
    "\n",
    "An escape character is a backslash `\\` followed by the character you want to insert.\n",
    "\n",
    "An example of an illegal character is a double quote inside a string that is surrounded by double quotes:"
   ]
  },
  {
   "cell_type": "code",
   "execution_count": 59,
   "id": "0c9aaca0",
   "metadata": {},
   "outputs": [
    {
     "ename": "SyntaxError",
     "evalue": "invalid syntax (7934146.py, line 1)",
     "output_type": "error",
     "traceback": [
      "\u001b[1;36m  Cell \u001b[1;32mIn [59], line 1\u001b[1;36m\u001b[0m\n\u001b[1;33m    txt = \"We are the so-called \"Vikings\" from the north.\"\u001b[0m\n\u001b[1;37m                                 ^\u001b[0m\n\u001b[1;31mSyntaxError\u001b[0m\u001b[1;31m:\u001b[0m invalid syntax\n"
     ]
    }
   ],
   "source": [
    "txt = \"We are the so-called \"Vikings\" from the north.\""
   ]
  },
  {
   "cell_type": "code",
   "execution_count": 61,
   "id": "7f6d1542",
   "metadata": {},
   "outputs": [
    {
     "name": "stdout",
     "output_type": "stream",
     "text": [
      "We are the so-called \"Vikings\" from the north.\n"
     ]
    }
   ],
   "source": [
    "txt = \"We are the so-called \\\"Vikings\\\" from the north.\"\n",
    "print(txt)"
   ]
  },
  {
   "cell_type": "markdown",
   "id": "def50aa4",
   "metadata": {},
   "source": [
    "<img width = 300 src=\"assets/escape_char.JPG\" />"
   ]
  },
  {
   "cell_type": "markdown",
   "id": "c7a306d9",
   "metadata": {},
   "source": [
    "## String Methods"
   ]
  },
  {
   "cell_type": "markdown",
   "id": "8318fa5e",
   "metadata": {},
   "source": [
    "`capitalize()`\tConverts the first character to upper case\n",
    "\n",
    "`casefold()`\tConverts string into lower case\n",
    "\n",
    "`center()`\tReturns a centered string\n",
    "\n",
    "`count()`\tReturns the number of times a specified value occurs in a string\n",
    "\n",
    "`encode()`\tReturns an encoded version of the string\n",
    "\n",
    "`endswith()`\tReturns true if the string ends with the specified value\n",
    "\n",
    "`expandtabs()`\tSets the tab size of the string\n",
    "\n",
    "`find()`\tSearches the string for a specified value and returns the position of where it was found\n",
    "\n",
    "`format()`\tFormats specified values in a string\n",
    "\n",
    "`format_map()`\tFormats specified values in a string\n",
    "\n",
    "`index()`\tSearches the string for a specified value and returns the position of where it was found\n",
    "\n",
    "`isalnum()`\tReturns True if all characters in the string are alphanumeric\n",
    "\n",
    "`isalpha()`\tReturns True if all characters in the string are in the alphabet\n",
    "\n",
    "`isdecimal()`\tReturns True if all characters in the string are decimals\n",
    "\n",
    "`isdigit()`\tReturns True if all characters in the string are digits\n",
    "\n",
    "`isidentifier()`\tReturns True if the string is an identifier\n",
    "\n",
    "`islower()`\tReturns True if all characters in the string are lower case\n",
    "\n",
    "`isnumeric()`\tReturns True if all characters in the string are numeric\n",
    "\n",
    "`isprintable()`\tReturns True if all characters in the string are printable\n",
    "\n",
    "`isspace()`\tReturns True if all characters in the string are whitespaces\n",
    "\n",
    "`istitle()`\tReturns True if the string follows the rules of a title\n",
    "\n",
    "`isupper()`\tReturns True if all characters in the string are upper case\n",
    "\n",
    "`join()`\tJoins the elements of an iterable to the end of the string\n",
    "\n",
    "`ljust()`\tReturns a left justified version of the string\n",
    "\n",
    "`lower()`\tConverts a string into lower case\n",
    "\n",
    "`lstrip()`\tReturns a left trim version of the string\n",
    "\n",
    "`maketrans()`\tReturns a translation table to be used in translations\n",
    "\n",
    "`partition()`\tReturns a tuple where the string is parted into three parts\n",
    "\n",
    "`replace()`\tReturns a string where a specified value is replaced with a specified value\n",
    "\n",
    "`rfind()`\tSearches the string for a specified value and returns the last position of where it was found\n",
    "\n",
    "`rindex()`\tSearches the string for a specified value and returns the last position of where it was found\n",
    "\n",
    "`rjust()`\tReturns a right justified version of the string\n",
    "\n",
    "`rpartition()`\tReturns a tuple where the string is parted into three parts\n",
    "\n",
    "`rsplit()`\tSplits the string at the specified separator, and returns a list\n",
    "\n",
    "`rstrip()`\tReturns a right trim version of the string\n",
    "\n",
    "`split()`\tSplits the string at the specified separator, and returns a list\n",
    "\n",
    "`splitlines()`\tSplits the string at line breaks and returns a list\n",
    "\n",
    "`startswith()`\tReturns true if the string starts with the specified value\n",
    "\n",
    "`strip()`\tReturns a trimmed version of the string\n",
    "\n",
    "`swapcase()`\tSwaps cases, lower case becomes upper case and vice versa\n",
    "\n",
    "`title()`\tConverts the first character of each word to upper case\n",
    "\n",
    "`translate()`\tReturns a translated string\n",
    "\n",
    "`upper()`\tConverts a string into upper case\n",
    "\n",
    "`zfill()`\tFills the string with a specified number of 0 values at the beginning"
   ]
  },
  {
   "cell_type": "markdown",
   "id": "10378b23",
   "metadata": {},
   "source": [
    "## Some tips about `print` function"
   ]
  },
  {
   "cell_type": "markdown",
   "id": "7dccced9",
   "metadata": {},
   "source": [
    "you can specify the seprator between elements for printing by `sep` argument (defualt is space)"
   ]
  },
  {
   "cell_type": "code",
   "execution_count": 1,
   "id": "9f475664",
   "metadata": {},
   "outputs": [
    {
     "name": "stdout",
     "output_type": "stream",
     "text": [
      "first second\n"
     ]
    }
   ],
   "source": [
    "print('first' , 'second')"
   ]
  },
  {
   "cell_type": "code",
   "execution_count": 4,
   "id": "286202c8",
   "metadata": {},
   "outputs": [
    {
     "name": "stdout",
     "output_type": "stream",
     "text": [
      "first,second\n",
      "first##second\n"
     ]
    }
   ],
   "source": [
    "print('first' , 'second' , sep=',')\n",
    "print('first' , 'second' , sep='##')"
   ]
  },
  {
   "cell_type": "markdown",
   "id": "a5c4c37f",
   "metadata": {},
   "source": [
    "print command by defulat add `\\n` to the end of printing string .It is possible to change the default By setting `end` argument "
   ]
  },
  {
   "cell_type": "code",
   "execution_count": 5,
   "id": "1c0f5ec8",
   "metadata": {},
   "outputs": [
    {
     "name": "stdout",
     "output_type": "stream",
     "text": [
      "first line\n",
      "second line\n"
     ]
    }
   ],
   "source": [
    "print('first line')\n",
    "print('second line')"
   ]
  },
  {
   "cell_type": "code",
   "execution_count": 7,
   "id": "2180681e",
   "metadata": {},
   "outputs": [
    {
     "name": "stdout",
     "output_type": "stream",
     "text": [
      "first-line second-line "
     ]
    }
   ],
   "source": [
    "print('first-line' , end=\" \")\n",
    "print('second-line' , end=\" \")"
   ]
  }
 ],
 "metadata": {
  "kernelspec": {
   "display_name": "Python 3 (ipykernel)",
   "language": "python",
   "name": "python3"
  },
  "language_info": {
   "codemirror_mode": {
    "name": "ipython",
    "version": 3
   },
   "file_extension": ".py",
   "mimetype": "text/x-python",
   "name": "python",
   "nbconvert_exporter": "python",
   "pygments_lexer": "ipython3",
   "version": "3.9.14"
  }
 },
 "nbformat": 4,
 "nbformat_minor": 5
}
