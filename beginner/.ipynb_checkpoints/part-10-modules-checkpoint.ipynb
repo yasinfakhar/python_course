{
 "cells": [
  {
   "cell_type": "markdown",
   "id": "e4ffe911",
   "metadata": {},
   "source": [
    "## What is a Module?\n",
    "Consider a module to be the same as a code library.\n",
    "\n",
    "A file containing a set of functions you want to include in your application."
   ]
  },
  {
   "cell_type": "markdown",
   "id": "a2b30eda",
   "metadata": {},
   "source": [
    "## Create a Module\n",
    "To create a module just save the code you want in a file with the file extension .py:\n",
    "\n"
   ]
  },
  {
   "cell_type": "markdown",
   "id": "4da670f3",
   "metadata": {},
   "source": [
    "Save this code in a file named `mymodule.py`\n",
    "```\n",
    "def greeting(name):\n",
    "  print(\"Hello, \" + name)\n",
    "```"
   ]
  },
  {
   "cell_type": "markdown",
   "id": "7ebd2005",
   "metadata": {},
   "source": [
    "## Use a Module\n",
    "Now we can use the module we just created, by using the `import` statement:"
   ]
  },
  {
   "cell_type": "code",
   "execution_count": 2,
   "id": "874b1b12",
   "metadata": {},
   "outputs": [
    {
     "name": "stdout",
     "output_type": "stream",
     "text": [
      "Hello, Jonathan\n"
     ]
    }
   ],
   "source": [
    "import mymodule\n",
    "\n",
    "mymodule.greeting(\"Jonathan\")"
   ]
  },
  {
   "cell_type": "markdown",
   "id": "36009701",
   "metadata": {},
   "source": [
    "Note: When using a function from a module, use the syntax: `module_name.function_name`"
   ]
  },
  {
   "cell_type": "markdown",
   "id": "0ef0d6f5",
   "metadata": {},
   "source": [
    "## Variables in Module\n",
    "The module can contain functions, as already described, but also variables of all types (arrays, dictionaries, objects etc):"
   ]
  },
  {
   "cell_type": "markdown",
   "id": "cbb6f3c9",
   "metadata": {},
   "source": [
    "Save this code in the file `mymodule.py`\n",
    "\n",
    "```\n",
    "person1 = {\n",
    "  \"name\": \"John\",\n",
    "  \"age\": 36,\n",
    "  \"country\": \"Norway\"\n",
    "}\n",
    "```"
   ]
  },
  {
   "cell_type": "markdown",
   "id": "f4135117",
   "metadata": {},
   "source": [
    "Import the module named mymodule, and access the person1 dictionary:"
   ]
  },
  {
   "cell_type": "code",
   "execution_count": 1,
   "id": "cbcba130",
   "metadata": {},
   "outputs": [
    {
     "name": "stdout",
     "output_type": "stream",
     "text": [
      "36\n"
     ]
    }
   ],
   "source": [
    "import mymodule\n",
    "\n",
    "a = mymodule.person1[\"age\"]\n",
    "print(a)"
   ]
  },
  {
   "cell_type": "markdown",
   "id": "f2271e39",
   "metadata": {},
   "source": [
    "## Naming a Module\n",
    "You can name the module file whatever you like, but it must have the file extension `.py`\n",
    "\n",
    "## Re-naming a Module\n",
    "You can create an alias when you import a module, by using the `as` keyword:"
   ]
  },
  {
   "cell_type": "code",
   "execution_count": 2,
   "id": "2b98dbd5",
   "metadata": {},
   "outputs": [
    {
     "name": "stdout",
     "output_type": "stream",
     "text": [
      "36\n"
     ]
    }
   ],
   "source": [
    "import mymodule as mx\n",
    "\n",
    "a = mx.person1[\"age\"]\n",
    "print(a)"
   ]
  },
  {
   "cell_type": "markdown",
   "id": "be6865f8",
   "metadata": {},
   "source": [
    "## Built-in Modules\n",
    "There are several built-in modules in Python, which you can `import` whenever you like."
   ]
  },
  {
   "cell_type": "code",
   "execution_count": 4,
   "id": "b8a3971f",
   "metadata": {},
   "outputs": [
    {
     "name": "stdout",
     "output_type": "stream",
     "text": [
      "Linux\n"
     ]
    }
   ],
   "source": [
    "import platform\n",
    "\n",
    "x = platform.system()\n",
    "print(x)"
   ]
  },
  {
   "cell_type": "markdown",
   "id": "a9029dd1",
   "metadata": {},
   "source": [
    "## Using the `dir()` Function\n",
    "There is a built-in function to list all the function names (or variable names) in a module. The dir() function:"
   ]
  },
  {
   "cell_type": "code",
   "execution_count": 5,
   "id": "f912610b",
   "metadata": {},
   "outputs": [
    {
     "name": "stdout",
     "output_type": "stream",
     "text": [
      "['_Processor', '_WIN32_CLIENT_RELEASES', '_WIN32_SERVER_RELEASES', '__builtins__', '__cached__', '__copyright__', '__doc__', '__file__', '__loader__', '__name__', '__package__', '__spec__', '__version__', '_comparable_version', '_component_re', '_default_architecture', '_follow_symlinks', '_get_machine_win32', '_ironpython26_sys_version_parser', '_ironpython_sys_version_parser', '_java_getprop', '_libc_search', '_mac_ver_xml', '_node', '_norm_version', '_platform', '_platform_cache', '_pypy_sys_version_parser', '_sys_version', '_sys_version_cache', '_sys_version_parser', '_syscmd_file', '_syscmd_ver', '_uname_cache', '_unknown_as_blank', '_ver_output', '_ver_stages', 'architecture', 'collections', 'functools', 'itertools', 'java_ver', 'libc_ver', 'mac_ver', 'machine', 'node', 'os', 'platform', 'processor', 'python_branch', 'python_build', 'python_compiler', 'python_implementation', 'python_revision', 'python_version', 'python_version_tuple', 're', 'release', 'subprocess', 'sys', 'system', 'system_alias', 'uname', 'uname_result', 'version', 'win32_edition', 'win32_is_iot', 'win32_ver']\n"
     ]
    }
   ],
   "source": [
    "import platform\n",
    "\n",
    "x = dir(platform)\n",
    "print(x)"
   ]
  },
  {
   "cell_type": "markdown",
   "id": "f8d3dc2d",
   "metadata": {},
   "source": [
    "## Import From Module\n",
    "You can choose to import only parts from a module, by using the `from` keyword."
   ]
  },
  {
   "cell_type": "code",
   "execution_count": 6,
   "id": "d64f48e9",
   "metadata": {},
   "outputs": [
    {
     "name": "stdout",
     "output_type": "stream",
     "text": [
      "36\n"
     ]
    }
   ],
   "source": [
    "from mymodule import person1\n",
    "\n",
    "print (person1[\"age\"])"
   ]
  },
  {
   "cell_type": "markdown",
   "id": "f5d7076b",
   "metadata": {},
   "source": [
    "Note: When importing using the from keyword, do not use the module name when referring to elements in the module. \n",
    "\n",
    "Example: `person1[\"age\"]`, <b>not</b> `mymodule.person1[\"age\"]`"
   ]
  },
  {
   "cell_type": "markdown",
   "id": "b010738a",
   "metadata": {},
   "source": [
    "## built-in math functions\n",
    "Python has a set of built-in math functions, including an extensive math module, that allows you to perform mathematical tasks on numbers."
   ]
  },
  {
   "cell_type": "markdown",
   "id": "d9771b27",
   "metadata": {},
   "source": [
    "The `min()` and `max()` functions can be used to find the lowest or highest value in an iterable:"
   ]
  },
  {
   "cell_type": "code",
   "execution_count": 7,
   "id": "6c002ce1",
   "metadata": {},
   "outputs": [
    {
     "name": "stdout",
     "output_type": "stream",
     "text": [
      "5\n",
      "25\n"
     ]
    }
   ],
   "source": [
    "x = min(5, 10, 25)\n",
    "y = max(5, 10, 25)\n",
    "\n",
    "print(x)\n",
    "print(y)"
   ]
  },
  {
   "cell_type": "markdown",
   "id": "4045ada5",
   "metadata": {},
   "source": [
    "The `abs()` function returns the absolute (positive) value of the specified number:"
   ]
  },
  {
   "cell_type": "code",
   "execution_count": 8,
   "id": "640d0cbd",
   "metadata": {},
   "outputs": [
    {
     "name": "stdout",
     "output_type": "stream",
     "text": [
      "7.25\n"
     ]
    }
   ],
   "source": [
    "x = abs(-7.25)\n",
    "\n",
    "print(x)"
   ]
  },
  {
   "cell_type": "markdown",
   "id": "ed2657d3",
   "metadata": {},
   "source": [
    "The `pow(x, y)` function returns the value of x to the power of $x^{y}$."
   ]
  },
  {
   "cell_type": "markdown",
   "id": "45c6e306",
   "metadata": {},
   "source": [
    "## The Math Module\n",
    "Python has also a built-in module called math, which extends the list of mathematical functions.\n",
    "\n",
    "To use it, you must import the math module:\n",
    "\n"
   ]
  },
  {
   "cell_type": "markdown",
   "id": "497f6ec2",
   "metadata": {},
   "source": [
    "When you have imported the math module, you can start using methods and constants of the module.\n",
    "\n",
    "The `math.sqrt()` method for example, returns the square root of a number:"
   ]
  },
  {
   "cell_type": "code",
   "execution_count": 10,
   "id": "fc9b962a",
   "metadata": {},
   "outputs": [
    {
     "name": "stdout",
     "output_type": "stream",
     "text": [
      "8.0\n"
     ]
    }
   ],
   "source": [
    "import math\n",
    "\n",
    "x = math.sqrt(64)\n",
    "\n",
    "print(x)"
   ]
  },
  {
   "cell_type": "markdown",
   "id": "b7d6c12a",
   "metadata": {},
   "source": [
    "The `math.ceil()` method rounds a number upwards to its nearest integer, and the `math.floor()` method rounds a number downwards to its nearest integer, and returns the result:"
   ]
  },
  {
   "cell_type": "code",
   "execution_count": 11,
   "id": "06003bec",
   "metadata": {},
   "outputs": [
    {
     "name": "stdout",
     "output_type": "stream",
     "text": [
      "2\n",
      "1\n"
     ]
    }
   ],
   "source": [
    "import math\n",
    "\n",
    "x = math.ceil(1.4)\n",
    "y = math.floor(1.4)\n",
    "\n",
    "print(x) # returns 2\n",
    "print(y) # returns 1"
   ]
  },
  {
   "cell_type": "markdown",
   "id": "5a7d8d22",
   "metadata": {},
   "source": [
    "The `math.pi` constant, returns the value of PI (3.14...):"
   ]
  },
  {
   "cell_type": "code",
   "execution_count": 12,
   "id": "1a4dd85d",
   "metadata": {},
   "outputs": [
    {
     "name": "stdout",
     "output_type": "stream",
     "text": [
      "3.141592653589793\n"
     ]
    }
   ],
   "source": [
    "import math\n",
    "\n",
    "x = math.pi\n",
    "\n",
    "print(x)"
   ]
  },
  {
   "cell_type": "markdown",
   "id": "b69510f8",
   "metadata": {},
   "source": [
    "### List of math library function\n",
    "`math.acos()`\tReturns the arc cosine of a number\n",
    "\n",
    "`math.acosh()`\tReturns the inverse hyperbolic cosine of a number\n",
    "\n",
    "`math.asin()`\tReturns the arc sine of a number\n",
    "\n",
    "`math.asinh()`\tReturns the inverse hyperbolic sine of a number\n",
    "\n",
    "`math.atan()`\tReturns the arc tangent of a number in radians\n",
    "\n",
    "`math.atan2()`\tReturns the arc tangent of y/x in radians\n",
    "\n",
    "`math.atanh()`\tReturns the inverse hyperbolic tangent of a number\n",
    "\n",
    "`math.ceil()`\tRounds a number up to the nearest integer\n",
    "\n",
    "`math.comb()`\tReturns the number of ways to choose k items from n items without \n",
    "repetition and order\n",
    "\n",
    "`math.copysign()`\tReturns a float consisting of the value of the first parameter and the sign of the second parameter\n",
    "\n",
    "`math.cos()`\tReturns the cosine of a number\n",
    "\n",
    "`math.cosh()`\tReturns the hyperbolic cosine of a number\n",
    "\n",
    "`math.degrees()`\tConverts an angle from radians to degrees\n",
    "\n",
    "`math.dist()`\tReturns the Euclidean distance between two points (p and q), where p and q are the coordinates of that point\n",
    "\n",
    "`math.erf()`\tReturns the error function of a number\n",
    "\n",
    "`math.erfc()`\tReturns the complementary error function of a number\n",
    "\n",
    "`math.exp()`\tReturns E raised to the power of x\n",
    "\n",
    "`math.expm1()`\tReturns Ex - 1\n",
    "\n",
    "`math.fabs()`\tReturns the absolute value of a number\n",
    "\n",
    "`math.factorial()`\tReturns the factorial of a number\n",
    "\n",
    "`math.floor()`\tRounds a number down to the nearest integer\n",
    "\n",
    "`math.fmod()`\tReturns the remainder of x/y\n",
    "\n",
    "`math.frexp()`\tReturns the mantissa and the exponent, of a specified number\n",
    "\n",
    "`math.fsum()`\tReturns the sum of all items in any iterable (tuples, arrays, lists, etc.)\n",
    "\n",
    "`math.gamma()`\tReturns the gamma function at x\n",
    "\n",
    "`math.gcd()`\tReturns the greatest common divisor of two integers\n",
    "\n",
    "`math.hypot()`\tReturns the Euclidean norm\n",
    "\n",
    "`math.isclose()`\tChecks whether two values are close to each other, or not\n",
    "\n",
    "`math.isfinite()`\tChecks whether a number is finite or not\n",
    "\n",
    "`math.isinf()`\tChecks whether a number is infinite or not\n",
    "\n",
    "`math.isnan()`\tChecks whether a value is NaN (not a number) or not\n",
    "\n",
    "`math.isqrt()`\tRounds a square root number downwards to the nearest integer\n",
    "\n",
    "`math.ldexp()`\tReturns the inverse of math.frexp() which is x * (2**i) of the given numbers x and i\n",
    "\n",
    "`math.lgamma()`\tReturns the log gamma value of x\n",
    "\n",
    "`math.log()`\tReturns the natural logarithm of a number, or the logarithm of number to base\n",
    "\n",
    "`math.log10()`\tReturns the base-10 logarithm of x\n",
    "\n",
    "`math.log1p()`\tReturns the natural logarithm of 1+x\n",
    "\n",
    "`math.log2()`\tReturns the base-2 logarithm of x\n",
    "\n",
    "`math.perm()`\tReturns the number of ways to choose k items from n items with order and without repetition\n",
    "\n",
    "`math.pow()`\tReturns the value of x to the power of y\n",
    "\n",
    "`math.prod()`\tReturns the product of all the elements in an iterable\n",
    "\n",
    "`math.radians()`\tConverts a degree value into radians\n",
    "\n",
    "`math.remainder()`\tReturns the closest value that can make numerator completely divisible by the denominator\n",
    "\n",
    "`math.sin()`\tReturns the sine of a number\n",
    "\n",
    "`math.sinh()`\tReturns the hyperbolic sine of a number\n",
    "\n",
    "`math.sqrt()`\tReturns the square root of a number\n",
    "\n",
    "`math.tan()`\tReturns the tangent of a number\n",
    "\n",
    "`math.tanh()`\tReturns the hyperbolic tangent of a number\n",
    "\n",
    "`math.trunc()`\tReturns the truncated integer parts of a number\n",
    "\n",
    "### Math Constants\n",
    "`math.e`\tReturns Euler's number (2.7182...)\n",
    "\n",
    "`math.inf`\tReturns a floating-point positive infinity\n",
    "\n",
    "`math.nan`\tReturns a floating-point NaN (Not a Number) value\n",
    "\n",
    "`math.pi`\tReturns PI (3.1415...)\n",
    "\n",
    "`math.tau`\tReturns tau (6.2831...)"
   ]
  },
  {
   "cell_type": "markdown",
   "id": "5359d1da",
   "metadata": {},
   "source": [
    "## Python PIP"
   ]
  },
  {
   "cell_type": "markdown",
   "id": "e8d18707",
   "metadata": {},
   "source": [
    "PIP is a package manager for Python packages, or modules if you like.\n",
    "\n"
   ]
  },
  {
   "cell_type": "markdown",
   "id": "dc076dd1",
   "metadata": {},
   "source": [
    "## What is a Package?\n",
    "A package contains all the files you need for a module.\n",
    "\n",
    "Modules are Python code libraries you can include in your project.\n",
    "\n"
   ]
  },
  {
   "cell_type": "markdown",
   "id": "676f748b",
   "metadata": {},
   "source": [
    "## Check if PIP is Installed"
   ]
  },
  {
   "cell_type": "code",
   "execution_count": 17,
   "id": "4734e80f",
   "metadata": {},
   "outputs": [
    {
     "name": "stdout",
     "output_type": "stream",
     "text": [
      "pip 22.2.2 from /home/yasin/.local/lib/python3.9/site-packages/pip (python 3.9)\r\n"
     ]
    }
   ],
   "source": [
    "!pip -V"
   ]
  },
  {
   "cell_type": "markdown",
   "id": "ed518bd4",
   "metadata": {},
   "source": [
    "## Install PIP\n",
    "If you do not have PIP installed, you can download and install it from this page: https://pypi.org/project/pip/\n",
    "\n"
   ]
  },
  {
   "cell_type": "markdown",
   "id": "7ec69a73",
   "metadata": {},
   "source": [
    "## Download a Package\n",
    "Downloading a package is very easy.\n",
    "\n",
    "Open the command line interface and tell PIP to download the package you want.\n",
    "\n",
    "Navigate your command line to the location of Python's script directory, and type the following:"
   ]
  },
  {
   "cell_type": "code",
   "execution_count": 20,
   "id": "c87e34a1",
   "metadata": {},
   "outputs": [
    {
     "name": "stdout",
     "output_type": "stream",
     "text": [
      "Defaulting to user installation because normal site-packages is not writeable\n",
      "Collecting camelcase\n",
      "  Downloading camelcase-0.2.tar.gz (1.3 kB)\n",
      "  Preparing metadata (setup.py) ... \u001b[?25ldone\n",
      "\u001b[?25hBuilding wheels for collected packages: camelcase\n",
      "  Building wheel for camelcase (setup.py) ... \u001b[?25ldone\n",
      "\u001b[?25h  Created wheel for camelcase: filename=camelcase-0.2-py3-none-any.whl size=2211 sha256=bd1114c85561439cd22597d5d3340a919ee30f9d1b7e70f145ceac7633d0e023\n",
      "  Stored in directory: /home/yasin/.cache/pip/wheels/c3/9a/eb/7eca0b069ef85183fd3215aa793d8ffa56ae5b424912c311df\n",
      "Successfully built camelcase\n",
      "Installing collected packages: camelcase\n",
      "Successfully installed camelcase-0.2\n",
      "--- Logging error ---\n",
      "Traceback (most recent call last):\n",
      "  File \"/home/yasin/.local/lib/python3.9/site-packages/pip/_internal/utils/logging.py\", line 177, in emit\n",
      "    self.console.print(renderable, overflow=\"ignore\", crop=False, style=style)\n",
      "  File \"/home/yasin/.local/lib/python3.9/site-packages/pip/_vendor/rich/console.py\", line 1673, in print\n",
      "    extend(render(renderable, render_options))\n",
      "  File \"/home/yasin/.local/lib/python3.9/site-packages/pip/_vendor/rich/console.py\", line 1305, in render\n",
      "    for render_output in iter_render:\n",
      "  File \"/home/yasin/.local/lib/python3.9/site-packages/pip/_internal/utils/logging.py\", line 134, in __rich_console__\n",
      "    for line in lines:\n",
      "  File \"/home/yasin/.local/lib/python3.9/site-packages/pip/_vendor/rich/segment.py\", line 249, in split_lines\n",
      "    for segment in segments:\n",
      "  File \"/home/yasin/.local/lib/python3.9/site-packages/pip/_vendor/rich/console.py\", line 1283, in render\n",
      "    renderable = rich_cast(renderable)\n",
      "  File \"/home/yasin/.local/lib/python3.9/site-packages/pip/_vendor/rich/protocol.py\", line 36, in rich_cast\n",
      "    renderable = cast_method()\n",
      "  File \"/home/yasin/.local/lib/python3.9/site-packages/pip/_internal/self_outdated_check.py\", line 130, in __rich__\n",
      "    pip_cmd = get_best_invocation_for_this_pip()\n",
      "  File \"/home/yasin/.local/lib/python3.9/site-packages/pip/_internal/utils/entrypoints.py\", line 58, in get_best_invocation_for_this_pip\n",
      "    if found_executable and os.path.samefile(\n",
      "  File \"/usr/lib/python3.9/genericpath.py\", line 101, in samefile\n",
      "    s2 = os.stat(f2)\n",
      "FileNotFoundError: [Errno 2] No such file or directory: '/usr/bin/pip3.9'\n",
      "Call stack:\n",
      "  File \"/home/yasin/.local/bin/pip\", line 11, in <module>\n",
      "    sys.exit(main())\n",
      "  File \"/home/yasin/.local/lib/python3.9/site-packages/pip/_internal/cli/main.py\", line 70, in main\n",
      "    return command.main(cmd_args)\n",
      "  File \"/home/yasin/.local/lib/python3.9/site-packages/pip/_internal/cli/base_command.py\", line 101, in main\n",
      "    return self._main(args)\n",
      "  File \"/home/yasin/.local/lib/python3.9/site-packages/pip/_internal/cli/base_command.py\", line 223, in _main\n",
      "    self.handle_pip_version_check(options)\n",
      "  File \"/home/yasin/.local/lib/python3.9/site-packages/pip/_internal/cli/req_command.py\", line 190, in handle_pip_version_check\n",
      "    pip_self_version_check(session, options)\n",
      "  File \"/home/yasin/.local/lib/python3.9/site-packages/pip/_internal/self_outdated_check.py\", line 236, in pip_self_version_check\n",
      "    logger.warning(\"[present-rich] %s\", upgrade_prompt)\n",
      "  File \"/usr/lib/python3.9/logging/__init__.py\", line 1458, in warning\n",
      "    self._log(WARNING, msg, args, **kwargs)\n",
      "  File \"/usr/lib/python3.9/logging/__init__.py\", line 1589, in _log\n",
      "    self.handle(record)\n",
      "  File \"/usr/lib/python3.9/logging/__init__.py\", line 1599, in handle\n",
      "    self.callHandlers(record)\n",
      "  File \"/usr/lib/python3.9/logging/__init__.py\", line 1661, in callHandlers\n",
      "    hdlr.handle(record)\n",
      "  File \"/usr/lib/python3.9/logging/__init__.py\", line 952, in handle\n",
      "    self.emit(record)\n",
      "  File \"/home/yasin/.local/lib/python3.9/site-packages/pip/_internal/utils/logging.py\", line 179, in emit\n",
      "    self.handleError(record)\n",
      "Message: '[present-rich] %s'\n",
      "Arguments: (UpgradePrompt(old='22.2.2', new='23.0'),)\n"
     ]
    }
   ],
   "source": [
    "!pip install camelcase"
   ]
  },
  {
   "cell_type": "code",
   "execution_count": 21,
   "id": "fb8d6f5a",
   "metadata": {},
   "outputs": [
    {
     "name": "stdout",
     "output_type": "stream",
     "text": [
      "Hello World\n"
     ]
    }
   ],
   "source": [
    "import camelcase\n",
    "\n",
    "c = camelcase.CamelCase()\n",
    "\n",
    "txt = \"hello world\"\n",
    "\n",
    "print(c.hump(txt))"
   ]
  },
  {
   "cell_type": "markdown",
   "id": "5a2c6eeb",
   "metadata": {},
   "source": [
    "## Find Packages\n",
    "Find more packages at https://pypi.org/."
   ]
  },
  {
   "cell_type": "markdown",
   "id": "170fbb0f",
   "metadata": {},
   "source": [
    "## Remove a Package\n",
    "Use the uninstall command to remove a package:"
   ]
  },
  {
   "cell_type": "code",
   "execution_count": 1,
   "id": "28dfee26",
   "metadata": {},
   "outputs": [
    {
     "name": "stdout",
     "output_type": "stream",
     "text": [
      "Found existing installation: camelcase 0.2\r\n",
      "Uninstalling camelcase-0.2:\r\n",
      "  Successfully uninstalled camelcase-0.2\r\n"
     ]
    }
   ],
   "source": [
    "!pip uninstall --yes camelcase "
   ]
  },
  {
   "cell_type": "markdown",
   "id": "471b5629",
   "metadata": {},
   "source": [
    "## List Packages\n",
    "Use the list command to list all the packages installed on your system:"
   ]
  },
  {
   "cell_type": "code",
   "execution_count": 2,
   "id": "fdda4ebb",
   "metadata": {},
   "outputs": [
    {
     "name": "stdout",
     "output_type": "stream",
     "text": [
      "Package                 Version\n",
      "----------------------- -------------------\n",
      "anyio                   3.6.1\n",
      "appdirs                 1.4.4\n",
      "apt-xapian-index        0.47\n",
      "apturl                  0.5.2\n",
      "argon2-cffi             21.3.0\n",
      "argon2-cffi-bindings    21.2.0\n",
      "asn1crypto              0.24.0\n",
      "asttokens               2.0.8\n",
      "attrs                   22.1.0\n",
      "audioread               3.0.0\n",
      "autopep8                1.7.0\n",
      "awscli                  1.27.13\n",
      "Babel                   2.10.3\n",
      "backcall                0.2.0\n",
      "beautifulsoup4          4.11.1\n",
      "bleach                  5.0.1\n",
      "boto3                   1.26.13\n",
      "botocore                1.29.13\n",
      "Brlapi                  0.6.6\n",
      "certifi                 2018.1.18\n",
      "cffi                    1.15.1\n",
      "chardet                 3.0.4\n",
      "charset-normalizer      2.1.1\n",
      "chrome-gnome-shell      0.0.0\n",
      "click                   6.7\n",
      "colorama                0.4.4\n",
      "command-not-found       0.3\n",
      "configparser            5.3.0\n",
      "contourpy               1.0.5\n",
      "cryptography            2.1.4\n",
      "cupshelpers             1.0\n",
      "cycler                  0.11.0\n",
      "debugpy                 1.6.3\n",
      "decorator               5.1.1\n",
      "defer                   1.0.6\n",
      "defusedxml              0.7.1\n",
      "distlib                 0.3.6\n",
      "distro-info             0.18ubuntu0.18.04.1\n",
      "docutils                0.16\n",
      "entrypoints             0.4\n",
      "executing               1.1.1\n",
      "fastjsonschema          2.16.2\n",
      "filelock                3.8.0\n",
      "fonttools               4.37.4\n",
      "gdown                   4.5.3\n",
      "httplib2                0.9.2\n",
      "idna                    3.4\n",
      "importlib-metadata      5.0.0\n",
      "ipykernel               6.16.0\n",
      "ipython                 8.5.0\n",
      "ipython-genutils        0.2.0\n",
      "jedi                    0.18.1\n",
      "Jinja2                  3.1.2\n",
      "jmespath                1.0.1\n",
      "joblib                  1.2.0\n",
      "json5                   0.9.10\n",
      "jsonschema              4.16.0\n",
      "jupyter_client          7.3.5\n",
      "jupyter-core            4.11.1\n",
      "jupyter-server          1.19.1\n",
      "jupyterlab              3.4.8\n",
      "jupyterlab-pygments     0.2.2\n",
      "jupyterlab_server       2.15.2\n",
      "keyring                 10.6.0\n",
      "keyrings.alt            3.0\n",
      "kiwisolver              1.4.4\n",
      "language-selector       0.1\n",
      "launchpadlib            1.10.6\n",
      "lazr.restfulclient      0.13.5\n",
      "lazr.uri                1.0.3\n",
      "librosa                 0.9.2\n",
      "linecache2              1.0.0\n",
      "llvmlite                0.39.1\n",
      "louis                   3.5.0\n",
      "macaroonbakery          1.1.3\n",
      "Mako                    1.0.7\n",
      "MarkupSafe              2.1.1\n",
      "matplotlib              3.6.2\n",
      "matplotlib-inline       0.1.6\n",
      "mistune                 2.0.4\n",
      "nbclassic               0.4.5\n",
      "nbclient                0.7.0\n",
      "nbconvert               7.2.1\n",
      "nbformat                5.6.1\n",
      "nest-asyncio            1.5.6\n",
      "netifaces               0.10.4\n",
      "notebook                6.4.12\n",
      "notebook-shim           0.1.0\n",
      "numba                   0.56.4\n",
      "numpy                   1.24.0\n",
      "oauth                   1.0.1\n",
      "olefile                 0.45.1\n",
      "opencv-python           4.5.2.54\n",
      "packaging               21.3\n",
      "pandas                  1.5.0\n",
      "pandocfilters           1.5.0\n",
      "parso                   0.8.3\n",
      "patsy                   0.5.3\n",
      "pbr                     3.1.1\n",
      "pexpect                 4.8.0\n",
      "pickleshare             0.7.5\n",
      "Pillow                  9.2.0\n",
      "pip                     22.2.2\n",
      "pooch                   1.6.0\n",
      "prometheus-client       0.14.1\n",
      "prompt-toolkit          3.0.31\n",
      "protobuf                3.0.0\n",
      "psutil                  5.9.2\n",
      "ptyprocess              0.7.0\n",
      "pure-eval               0.2.2\n",
      "pyasn1                  0.4.8\n",
      "pycairo                 1.16.2\n",
      "pycodestyle             2.9.1\n",
      "pycparser               2.21\n",
      "pycrypto                2.6.1\n",
      "pycups                  1.9.73\n",
      "Pygments                2.13.0\n",
      "PyGObject               3.26.1\n",
      "pymacaroons             0.13.0\n",
      "PyMySQL                 1.0.2\n",
      "PyNaCl                  1.1.2\n",
      "pyparsing               3.0.9\n",
      "pyperclip               1.8.2\n",
      "PyQt5                   5.15.7\n",
      "PyQt5-Qt5               5.15.2\n",
      "PyQt5-sip               12.11.0\n",
      "pyRFC3339               1.0\n",
      "pyrsistent              0.18.1\n",
      "PySocks                 1.7.1\n",
      "python-apt              1.6.5+ubuntu0.7\n",
      "python-dateutil         2.8.2\n",
      "python-debian           0.1.32\n",
      "pytz                    2022.2.1\n",
      "pyxdg                   0.25\n",
      "PyYAML                  5.4.1\n",
      "pyzmq                   24.0.1\n",
      "reportlab               3.4.0\n",
      "requests                2.28.1\n",
      "requests-unixsocket     0.1.5\n",
      "resampy                 0.4.2\n",
      "rsa                     4.7.2\n",
      "s3transfer              0.6.0\n",
      "scikit-learn            1.1.2\n",
      "scipy                   1.9.3\n",
      "screen-resolution-extra 0.0.0\n",
      "seaborn                 0.12.1\n",
      "SecretStorage           2.3.1\n",
      "Send2Trash              1.8.0\n",
      "setuptools              65.4.0\n",
      "shutils                 0.1.0\n",
      "simplejson              3.13.2\n",
      "six                     1.16.0\n",
      "sklearn                 0.0\n",
      "sniffio                 1.3.0\n",
      "soundfile               0.11.0\n",
      "soupsieve               2.3.2.post1\n",
      "stack-data              0.5.1\n",
      "statsmodels             0.13.5\n",
      "system-service          0.3\n",
      "systemd-python          234\n",
      "terminado               0.16.0\n",
      "testresources           2.0.0\n",
      "threadpoolctl           3.1.0\n",
      "tinycss2                1.1.1\n",
      "toml                    0.10.2\n",
      "tomli                   2.0.1\n",
      "torch                   1.12.1\n",
      "torchaudio              0.12.1\n",
      "torchvision             0.13.1\n",
      "tornado                 6.2\n",
      "tqdm                    4.64.1\n",
      "traceback2              1.4.0\n",
      "traitlets               5.4.0\n",
      "typing_extensions       4.4.0\n",
      "ubuntu-advantage-tools  27.9\n",
      "ubuntu-drivers-common   0.0.0\n",
      "ufw                     0.36\n",
      "unattended-upgrades     0.1\n",
      "unittest2               1.1.0\n",
      "urllib3                 1.26.12\n",
      "usb-creator             0.3.3\n",
      "virtualenv              15.1.0\n",
      "wadllib                 1.3.2\n",
      "wcwidth                 0.2.5\n",
      "webencodings            0.5.1\n",
      "websocket-client        1.4.1\n",
      "wheel                   0.30.0\n",
      "xkit                    0.0.0\n",
      "zipp                    3.9.0\n",
      "zope.interface          4.3.2\n",
      "--- Logging error ---\n",
      "Traceback (most recent call last):\n",
      "  File \"/home/yasin/.local/lib/python3.9/site-packages/pip/_internal/utils/logging.py\", line 177, in emit\n",
      "    self.console.print(renderable, overflow=\"ignore\", crop=False, style=style)\n",
      "  File \"/home/yasin/.local/lib/python3.9/site-packages/pip/_vendor/rich/console.py\", line 1673, in print\n",
      "    extend(render(renderable, render_options))\n",
      "  File \"/home/yasin/.local/lib/python3.9/site-packages/pip/_vendor/rich/console.py\", line 1305, in render\n",
      "    for render_output in iter_render:\n",
      "  File \"/home/yasin/.local/lib/python3.9/site-packages/pip/_internal/utils/logging.py\", line 134, in __rich_console__\n",
      "    for line in lines:\n",
      "  File \"/home/yasin/.local/lib/python3.9/site-packages/pip/_vendor/rich/segment.py\", line 249, in split_lines\n",
      "    for segment in segments:\n",
      "  File \"/home/yasin/.local/lib/python3.9/site-packages/pip/_vendor/rich/console.py\", line 1283, in render\n",
      "    renderable = rich_cast(renderable)\n",
      "  File \"/home/yasin/.local/lib/python3.9/site-packages/pip/_vendor/rich/protocol.py\", line 36, in rich_cast\n",
      "    renderable = cast_method()\n",
      "  File \"/home/yasin/.local/lib/python3.9/site-packages/pip/_internal/self_outdated_check.py\", line 130, in __rich__\n",
      "    pip_cmd = get_best_invocation_for_this_pip()\n",
      "  File \"/home/yasin/.local/lib/python3.9/site-packages/pip/_internal/utils/entrypoints.py\", line 58, in get_best_invocation_for_this_pip\n",
      "    if found_executable and os.path.samefile(\n",
      "  File \"/usr/lib/python3.9/genericpath.py\", line 101, in samefile\n",
      "    s2 = os.stat(f2)\n",
      "FileNotFoundError: [Errno 2] No such file or directory: '/usr/bin/pip3.9'\n",
      "Call stack:\n",
      "  File \"/home/yasin/.local/bin/pip\", line 11, in <module>\n",
      "    sys.exit(main())\n",
      "  File \"/home/yasin/.local/lib/python3.9/site-packages/pip/_internal/cli/main.py\", line 70, in main\n",
      "    return command.main(cmd_args)\n",
      "  File \"/home/yasin/.local/lib/python3.9/site-packages/pip/_internal/cli/base_command.py\", line 101, in main\n",
      "    return self._main(args)\n",
      "  File \"/home/yasin/.local/lib/python3.9/site-packages/pip/_internal/cli/base_command.py\", line 223, in _main\n",
      "    self.handle_pip_version_check(options)\n",
      "  File \"/home/yasin/.local/lib/python3.9/site-packages/pip/_internal/cli/req_command.py\", line 190, in handle_pip_version_check\n",
      "    pip_self_version_check(session, options)\n",
      "  File \"/home/yasin/.local/lib/python3.9/site-packages/pip/_internal/self_outdated_check.py\", line 236, in pip_self_version_check\n",
      "    logger.warning(\"[present-rich] %s\", upgrade_prompt)\n",
      "  File \"/usr/lib/python3.9/logging/__init__.py\", line 1458, in warning\n",
      "    self._log(WARNING, msg, args, **kwargs)\n",
      "  File \"/usr/lib/python3.9/logging/__init__.py\", line 1589, in _log\n",
      "    self.handle(record)\n",
      "  File \"/usr/lib/python3.9/logging/__init__.py\", line 1599, in handle\n",
      "    self.callHandlers(record)\n",
      "  File \"/usr/lib/python3.9/logging/__init__.py\", line 1661, in callHandlers\n",
      "    hdlr.handle(record)\n",
      "  File \"/usr/lib/python3.9/logging/__init__.py\", line 952, in handle\n",
      "    self.emit(record)\n",
      "  File \"/home/yasin/.local/lib/python3.9/site-packages/pip/_internal/utils/logging.py\", line 179, in emit\n",
      "    self.handleError(record)\n",
      "Message: '[present-rich] %s'\n",
      "Arguments: (UpgradePrompt(old='22.2.2', new='23.0'),)\n"
     ]
    }
   ],
   "source": [
    "!pip list"
   ]
  }
 ],
 "metadata": {
  "kernelspec": {
   "display_name": "Python 3 (ipykernel)",
   "language": "python",
   "name": "python3"
  },
  "language_info": {
   "codemirror_mode": {
    "name": "ipython",
    "version": 3
   },
   "file_extension": ".py",
   "mimetype": "text/x-python",
   "name": "python",
   "nbconvert_exporter": "python",
   "pygments_lexer": "ipython3",
   "version": "3.9.14"
  }
 },
 "nbformat": 4,
 "nbformat_minor": 5
}
