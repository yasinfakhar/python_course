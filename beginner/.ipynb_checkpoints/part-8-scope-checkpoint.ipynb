{
 "cells": [
  {
   "cell_type": "markdown",
   "id": "bceeb471",
   "metadata": {},
   "source": [
    "A variable is only available from inside the region it is created. This is called scope."
   ]
  },
  {
   "cell_type": "code",
   "execution_count": 3,
   "id": "f5414f02",
   "metadata": {},
   "outputs": [
    {
     "ename": "NameError",
     "evalue": "name 'x' is not defined",
     "output_type": "error",
     "traceback": [
      "\u001b[1;31m---------------------------------------------------------------------------\u001b[0m",
      "\u001b[1;31mNameError\u001b[0m                                 Traceback (most recent call last)",
      "Cell \u001b[1;32mIn [3], line 4\u001b[0m\n\u001b[0;32m      2\u001b[0m     x \u001b[38;5;241m=\u001b[39m \u001b[38;5;241m12\u001b[39m\n\u001b[0;32m      3\u001b[0m temp()\n\u001b[1;32m----> 4\u001b[0m \u001b[38;5;28mprint\u001b[39m(\u001b[43mx\u001b[49m)\n",
      "\u001b[1;31mNameError\u001b[0m: name 'x' is not defined"
     ]
    }
   ],
   "source": [
    "def temp():\n",
    "    x = 12\n",
    "\n",
    "#temp()\n",
    "print(x)"
   ]
  },
  {
   "cell_type": "markdown",
   "id": "861f9460",
   "metadata": {},
   "source": [
    "## Local Scope\n",
    "A variable created inside a function belongs to the local scope of that function, and can only be used inside that function."
   ]
  },
  {
   "cell_type": "code",
   "execution_count": null,
   "id": "0966ae7d",
   "metadata": {},
   "outputs": [],
   "source": [
    "def myfunc():\n",
    "    x = 300\n",
    "    print(x)\n",
    "\n",
    "myfunc()\n",
    "x"
   ]
  },
  {
   "cell_type": "markdown",
   "id": "cc38ac05",
   "metadata": {},
   "source": [
    "## Function Inside Function\n",
    "As explained in the example above, the variable x is not available outside the function, but it is available for any function inside the function:"
   ]
  },
  {
   "cell_type": "code",
   "execution_count": 3,
   "id": "60b88624",
   "metadata": {},
   "outputs": [
    {
     "name": "stdout",
     "output_type": "stream",
     "text": [
      "300\n"
     ]
    }
   ],
   "source": [
    "def myfunc():\n",
    "    x = 300\n",
    "    def myinnerfunc():\n",
    "        print(x)\n",
    "    myinnerfunc()\n",
    "\n",
    "myfunc()"
   ]
  },
  {
   "cell_type": "markdown",
   "id": "8a1b9a13",
   "metadata": {},
   "source": [
    "## Global Scope\n",
    "A variable created in the main body of the Python code is a global variable and belongs to the global scope.\n",
    "\n",
    "Global variables are available from within any scope, global and local."
   ]
  },
  {
   "cell_type": "code",
   "execution_count": 4,
   "id": "42e671d4",
   "metadata": {},
   "outputs": [
    {
     "name": "stdout",
     "output_type": "stream",
     "text": [
      "300\n",
      "300\n"
     ]
    }
   ],
   "source": [
    "x = 300\n",
    "\n",
    "def myfunc():\n",
    "    print(x)\n",
    "\n",
    "myfunc()\n",
    "\n",
    "print(x)"
   ]
  },
  {
   "cell_type": "markdown",
   "id": "94697aa2",
   "metadata": {},
   "source": [
    "## Naming Variables\n",
    "If you operate with the same variable name inside and outside of a function, Python will treat them as two separate variables, one available in the global scope (outside the function) and one available in the local scope (inside the function):"
   ]
  },
  {
   "cell_type": "code",
   "execution_count": 7,
   "id": "eb38e8d8",
   "metadata": {},
   "outputs": [
    {
     "name": "stdout",
     "output_type": "stream",
     "text": [
      "200\n",
      "300\n"
     ]
    }
   ],
   "source": [
    "x = 300\n",
    "\n",
    "def myfunc():\n",
    "    x = 200\n",
    "    print(x)\n",
    "\n",
    "myfunc()\n",
    "\n",
    "print(x)"
   ]
  },
  {
   "cell_type": "markdown",
   "id": "5d2ed32b",
   "metadata": {},
   "source": [
    "## Global Keyword\n",
    "If you need to create a global variable, but are stuck in the local scope, you can use the global keyword.\n",
    "\n",
    "The global keyword makes the variable global."
   ]
  },
  {
   "cell_type": "code",
   "execution_count": 10,
   "id": "4feedb42",
   "metadata": {},
   "outputs": [
    {
     "name": "stdout",
     "output_type": "stream",
     "text": [
      "300\n"
     ]
    }
   ],
   "source": [
    "def myfunc():\n",
    "    global x\n",
    "    x = 300\n",
    "\n",
    "myfunc()\n",
    "\n",
    "print(x)"
   ]
  },
  {
   "cell_type": "markdown",
   "id": "ed62e946",
   "metadata": {},
   "source": [
    "Also, use the global keyword if you want to make a change to a global variable inside a function."
   ]
  },
  {
   "cell_type": "code",
   "execution_count": 11,
   "id": "ded76fd5",
   "metadata": {},
   "outputs": [
    {
     "name": "stdout",
     "output_type": "stream",
     "text": [
      "200\n"
     ]
    }
   ],
   "source": [
    "x = 300\n",
    "\n",
    "def myfunc():\n",
    "    global x\n",
    "    x = 200\n",
    "\n",
    "myfunc()\n",
    "\n",
    "print(x)"
   ]
  }
 ],
 "metadata": {
  "kernelspec": {
   "display_name": "Python 3 (ipykernel)",
   "language": "python",
   "name": "python3"
  },
  "language_info": {
   "codemirror_mode": {
    "name": "ipython",
    "version": 3
   },
   "file_extension": ".py",
   "mimetype": "text/x-python",
   "name": "python",
   "nbconvert_exporter": "python",
   "pygments_lexer": "ipython3",
   "version": "3.8.0"
  }
 },
 "nbformat": 4,
 "nbformat_minor": 5
}
