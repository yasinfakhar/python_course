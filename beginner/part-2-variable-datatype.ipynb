{
 "cells": [
  {
   "cell_type": "markdown",
   "id": "7e262d17",
   "metadata": {},
   "source": [
    "## Creating a Comment"
   ]
  },
  {
   "cell_type": "code",
   "execution_count": 2,
   "id": "82ec2f5c",
   "metadata": {},
   "outputs": [
    {
     "name": "stdout",
     "output_type": "stream",
     "text": [
      "Hello, World!\n"
     ]
    }
   ],
   "source": [
    "#This is a comment\n",
    "print(\"Hello, World!\")"
   ]
  },
  {
   "cell_type": "code",
   "execution_count": 3,
   "id": "f8af4a42",
   "metadata": {},
   "outputs": [
    {
     "name": "stdout",
     "output_type": "stream",
     "text": [
      "Hello, World!\n"
     ]
    }
   ],
   "source": [
    "'''\n",
    "mulitple\n",
    "line\n",
    "comment\n",
    "'''\n",
    "print(\"Hello, World!\")"
   ]
  },
  {
   "cell_type": "markdown",
   "id": "60875497",
   "metadata": {},
   "source": [
    "## Creating Variables"
   ]
  },
  {
   "cell_type": "markdown",
   "id": "2f82db0a",
   "metadata": {},
   "source": [
    "Python has no command for declaring a variable.\n",
    "A variable is created the moment you first assign a value to it.\n",
    "\n",
    "you can check the type of a variable by command `type()`"
   ]
  },
  {
   "cell_type": "markdown",
   "id": "49c1c31d",
   "metadata": {},
   "source": [
    "Text Type: string (str)"
   ]
  },
  {
   "cell_type": "code",
   "execution_count": 9,
   "id": "c09b8889",
   "metadata": {},
   "outputs": [
    {
     "name": "stdout",
     "output_type": "stream",
     "text": [
      "John\n",
      "Legend\n",
      "<class 'str'>\n"
     ]
    }
   ],
   "source": [
    "name = \"John\"\n",
    "family = 'Legend'\n",
    "\n",
    "print(name)\n",
    "print(family)\n",
    "print(type(name))"
   ]
  },
  {
   "cell_type": "markdown",
   "id": "55e0f517",
   "metadata": {},
   "source": [
    "Numeric Types:\tint, float, complex"
   ]
  },
  {
   "cell_type": "code",
   "execution_count": 33,
   "id": "20170901",
   "metadata": {},
   "outputs": [
    {
     "name": "stdout",
     "output_type": "stream",
     "text": [
      "2 <class 'int'>\n",
      "2.34 <class 'float'>\n",
      "(5+3j) <class 'complex'>\n"
     ]
    }
   ],
   "source": [
    "a = 2\n",
    "b = 2.34\n",
    "c = 5+3j\n",
    "# or complex(5,3)\n",
    "\n",
    "print(a , type(a))\n",
    "print(b , type(b))\n",
    "print(c , type(c))"
   ]
  },
  {
   "cell_type": "code",
   "execution_count": 35,
   "id": "b23eb7fc",
   "metadata": {},
   "outputs": [
    {
     "name": "stdout",
     "output_type": "stream",
     "text": [
      "35000.0 <class 'float'>\n",
      "120000.0 <class 'float'>\n",
      "-8.77e+101 <class 'float'>\n"
     ]
    }
   ],
   "source": [
    "a = 35e3\n",
    "b = 12E4\n",
    "c = -87.7e100\n",
    "\n",
    "print(a , type(a))\n",
    "print(b , type(b))\n",
    "print(c , type(c))"
   ]
  },
  {
   "cell_type": "markdown",
   "id": "24d52643",
   "metadata": {},
   "source": [
    "Binary Types: bytes, bytearray, memoryview"
   ]
  },
  {
   "cell_type": "code",
   "execution_count": 13,
   "id": "51197731",
   "metadata": {},
   "outputs": [
    {
     "name": "stdout",
     "output_type": "stream",
     "text": [
      "b'Hello' <class 'bytes'>\n",
      "bytearray(b'\\x00\\x00\\x00\\x00\\x00') <class 'bytearray'>\n",
      "<memory at 0x7ff891459dc0> <class 'memoryview'>\n"
     ]
    }
   ],
   "source": [
    "a = b\"Hello\"\n",
    "b = bytearray(5)\n",
    "c = memoryview(bytes(5))\n",
    "\n",
    "print(a , type(a))\n",
    "print(b , type(b))\n",
    "print(c , type(c))"
   ]
  },
  {
   "cell_type": "markdown",
   "id": "306bd1aa",
   "metadata": {},
   "source": [
    "Sequence Types:\tlist, tuple, range"
   ]
  },
  {
   "cell_type": "code",
   "execution_count": 14,
   "id": "77df14f1",
   "metadata": {},
   "outputs": [
    {
     "name": "stdout",
     "output_type": "stream",
     "text": [
      "['apple', 'banana', 'cherry'] <class 'list'>\n",
      "('apple', 'banana', 'cherry') <class 'tuple'>\n",
      "range(0, 6) <class 'range'>\n"
     ]
    }
   ],
   "source": [
    "a = [\"apple\", \"banana\", \"cherry\"]\n",
    "b = (\"apple\", \"banana\", \"cherry\")\n",
    "c = range(6)\n",
    "\n",
    "print(a , type(a))\n",
    "print(b , type(b))\n",
    "print(c , type(c))"
   ]
  },
  {
   "cell_type": "markdown",
   "id": "a21157e6",
   "metadata": {},
   "source": [
    "Mapping Type:\tdict"
   ]
  },
  {
   "cell_type": "code",
   "execution_count": 15,
   "id": "3d0584ed",
   "metadata": {},
   "outputs": [
    {
     "name": "stdout",
     "output_type": "stream",
     "text": [
      "{'name': 'John', 'age': 36} <class 'dict'>\n"
     ]
    }
   ],
   "source": [
    "a = {\"name\" : \"John\", \"age\" : 36}\n",
    "\n",
    "print(a , type(a))"
   ]
  },
  {
   "cell_type": "markdown",
   "id": "f30f19ab",
   "metadata": {},
   "source": [
    "Set Types:\tset, frozenset"
   ]
  },
  {
   "cell_type": "code",
   "execution_count": 18,
   "id": "c35836ae",
   "metadata": {},
   "outputs": [
    {
     "name": "stdout",
     "output_type": "stream",
     "text": [
      "{'cherry', 'apple', 'banana'} <class 'set'>\n",
      "frozenset({'cherry', 'apple', 'banana'}) <class 'frozenset'>\n"
     ]
    }
   ],
   "source": [
    "a = {\"apple\", \"banana\", \"cherry\", \"cherry\"}\n",
    "b = frozenset({\"apple\", \"banana\", \"cherry\", \"cherry\"})\n",
    "\n",
    "print(a , type(a))\n",
    "print(b , type(b))"
   ]
  },
  {
   "cell_type": "markdown",
   "id": "fa8f508a",
   "metadata": {},
   "source": [
    "Note:\n",
    "* repeated items just count one\n",
    "* in sets we do not have prioirty\n",
    "* set object is not subscriptable"
   ]
  },
  {
   "cell_type": "code",
   "execution_count": 22,
   "id": "7b5fbb62",
   "metadata": {},
   "outputs": [
    {
     "ename": "TypeError",
     "evalue": "'set' object is not subscriptable",
     "output_type": "error",
     "traceback": [
      "\u001b[0;31m---------------------------------------------------------------------------\u001b[0m",
      "\u001b[0;31mTypeError\u001b[0m                                 Traceback (most recent call last)",
      "Cell \u001b[0;32mIn [22], line 2\u001b[0m\n\u001b[1;32m      1\u001b[0m a \u001b[38;5;241m=\u001b[39m {\u001b[38;5;124m\"\u001b[39m\u001b[38;5;124mapple\u001b[39m\u001b[38;5;124m\"\u001b[39m, \u001b[38;5;124m\"\u001b[39m\u001b[38;5;124mbanana\u001b[39m\u001b[38;5;124m\"\u001b[39m, \u001b[38;5;124m\"\u001b[39m\u001b[38;5;124mcherry\u001b[39m\u001b[38;5;124m\"\u001b[39m, \u001b[38;5;124m\"\u001b[39m\u001b[38;5;124mcherry\u001b[39m\u001b[38;5;124m\"\u001b[39m}\n\u001b[0;32m----> 2\u001b[0m \u001b[43ma\u001b[49m\u001b[43m[\u001b[49m\u001b[38;5;241;43m0\u001b[39;49m\u001b[43m]\u001b[49m\n",
      "\u001b[0;31mTypeError\u001b[0m: 'set' object is not subscriptable"
     ]
    }
   ],
   "source": [
    "a = {\"apple\", \"banana\", \"cherry\", \"cherry\"}\n",
    "a[0]"
   ]
  },
  {
   "cell_type": "markdown",
   "id": "26f516e6",
   "metadata": {},
   "source": [
    "None Type:\tNoneType"
   ]
  },
  {
   "cell_type": "code",
   "execution_count": 24,
   "id": "4d73db16",
   "metadata": {},
   "outputs": [
    {
     "name": "stdout",
     "output_type": "stream",
     "text": [
      "None <class 'NoneType'>\n"
     ]
    }
   ],
   "source": [
    "a = None\n",
    "\n",
    "print(a , type(a))"
   ]
  },
  {
   "cell_type": "markdown",
   "id": "f9fd3613",
   "metadata": {},
   "source": [
    "## Variable Names\n",
    "\n",
    "* A variable can have a short name (like x and y) or a more descriptive name (age, carname, total_volume). Rules for Python variables:\n",
    "* A variable name must start with a letter or the underscore character\n",
    "* A variable name cannot start with a number\n",
    "* A variable name can only contain alpha-numeric characters and underscores (A-z, 0-9, and _ )\n",
    "* Variable names are case-sensitive (age, Age and AGE are three different variables)"
   ]
  },
  {
   "cell_type": "code",
   "execution_count": 27,
   "id": "b01244f1",
   "metadata": {},
   "outputs": [],
   "source": [
    "#correct\n",
    "myvar = \"John\"\n",
    "my_var = \"John\"\n",
    "_my_var = \"John\"\n",
    "myVar = \"John\"\n",
    "MYVAR = \"John\"\n",
    "myvar2 = \"John\""
   ]
  },
  {
   "cell_type": "code",
   "execution_count": 28,
   "id": "dd8a0ab7",
   "metadata": {},
   "outputs": [
    {
     "ename": "SyntaxError",
     "evalue": "invalid syntax (268464814.py, line 2)",
     "output_type": "error",
     "traceback": [
      "\u001b[0;36m  Cell \u001b[0;32mIn [28], line 2\u001b[0;36m\u001b[0m\n\u001b[0;31m    2myvar = \"John\"\u001b[0m\n\u001b[0m     ^\u001b[0m\n\u001b[0;31mSyntaxError\u001b[0m\u001b[0;31m:\u001b[0m invalid syntax\n"
     ]
    }
   ],
   "source": [
    "#incorrect\n",
    "2myvar = \"John\"\n",
    "my-var = \"John\"\n",
    "my var = \"John\""
   ]
  },
  {
   "cell_type": "markdown",
   "id": "b48933ae",
   "metadata": {},
   "source": [
    "## Many Values to Multiple Variables"
   ]
  },
  {
   "cell_type": "code",
   "execution_count": 29,
   "id": "072408e6",
   "metadata": {},
   "outputs": [
    {
     "name": "stdout",
     "output_type": "stream",
     "text": [
      "Orange\n",
      "Banana\n",
      "Cherry\n"
     ]
    }
   ],
   "source": [
    "x, y, z = \"Orange\", \"Banana\", \"Cherry\"\n",
    "print(x)\n",
    "print(y)\n",
    "print(z)"
   ]
  },
  {
   "cell_type": "markdown",
   "id": "b53830f1",
   "metadata": {},
   "source": [
    "## One Value to Multiple Variables"
   ]
  },
  {
   "cell_type": "code",
   "execution_count": 30,
   "id": "19f5a7a7",
   "metadata": {},
   "outputs": [
    {
     "name": "stdout",
     "output_type": "stream",
     "text": [
      "Orange\n",
      "Orange\n",
      "Orange\n"
     ]
    }
   ],
   "source": [
    "x = y = z = \"Orange\"\n",
    "print(x)\n",
    "print(y)\n",
    "print(z)"
   ]
  },
  {
   "cell_type": "markdown",
   "id": "3c896297",
   "metadata": {},
   "source": [
    "## Unpack a Collection"
   ]
  },
  {
   "cell_type": "code",
   "execution_count": 31,
   "id": "c03f8bc6",
   "metadata": {},
   "outputs": [
    {
     "name": "stdout",
     "output_type": "stream",
     "text": [
      "apple\n",
      "banana\n",
      "cherry\n"
     ]
    }
   ],
   "source": [
    "fruits = [\"apple\", \"banana\", \"cherry\"]\n",
    "x, y, z = fruits\n",
    "print(x)\n",
    "print(y)\n",
    "print(z)"
   ]
  },
  {
   "cell_type": "markdown",
   "id": "c126eeb4",
   "metadata": {},
   "source": [
    "## Casting"
   ]
  },
  {
   "cell_type": "markdown",
   "id": "2b2ce47a",
   "metadata": {},
   "source": [
    "`int()` - constructs an integer number from an integer literal, a float literal (by removing all decimals), or a string literal (providing the string represents a whole number)\n",
    "\n",
    "`float()` - constructs a float number from an integer literal, a float literal or a string literal (providing the string represents a float or an integer)\n",
    "\n",
    "`str()` - constructs a string from a wide variety of data types, including strings, integer literals and float literals"
   ]
  },
  {
   "cell_type": "code",
   "execution_count": 39,
   "id": "cc856d0a",
   "metadata": {},
   "outputs": [],
   "source": [
    "x = int(3)  \n",
    "y = int(3.2)\n",
    "z = int('3')"
   ]
  },
  {
   "cell_type": "code",
   "execution_count": 40,
   "id": "2af4d5d7",
   "metadata": {},
   "outputs": [],
   "source": [
    "x = float(1)    \n",
    "y = float(2.8)  \n",
    "z = float(\"3\")  \n",
    "w = float(\"4.2\")"
   ]
  },
  {
   "cell_type": "code",
   "execution_count": 5,
   "id": "147eec74",
   "metadata": {},
   "outputs": [],
   "source": [
    "x = str(\"s1\")\n",
    "y = str(2)   \n",
    "z = str(3.0)\n",
    "h = str(True) #\"True\"\n",
    "g = str(None) #\"None\""
   ]
  },
  {
   "cell_type": "code",
   "execution_count": 3,
   "id": "5053bf44",
   "metadata": {},
   "outputs": [],
   "source": [
    "x = bool(\"s1\") #True\n",
    "y = bool(12) #True\n",
    "z = bool(0) #False"
   ]
  },
  {
   "cell_type": "code",
   "execution_count": 8,
   "id": "e7034cfb",
   "metadata": {},
   "outputs": [
    {
     "ename": "TypeError",
     "evalue": "int() argument must be a string, a bytes-like object or a number, not 'NoneType'",
     "output_type": "error",
     "traceback": [
      "\u001b[1;31m---------------------------------------------------------------------------\u001b[0m",
      "\u001b[1;31mTypeError\u001b[0m                                 Traceback (most recent call last)",
      "Cell \u001b[1;32mIn [8], line 1\u001b[0m\n\u001b[1;32m----> 1\u001b[0m \u001b[38;5;28;43mint\u001b[39;49m\u001b[43m(\u001b[49m\u001b[38;5;28;43;01mNone\u001b[39;49;00m\u001b[43m)\u001b[49m\n",
      "\u001b[1;31mTypeError\u001b[0m: int() argument must be a string, a bytes-like object or a number, not 'NoneType'"
     ]
    }
   ],
   "source": [
    "int(None)"
   ]
  },
  {
   "cell_type": "markdown",
   "id": "f5bcb71a",
   "metadata": {},
   "source": [
    "## User Input\n",
    "Python allows for user input.\n",
    "\n",
    "That means we are able to ask the user for input.\n",
    "\n",
    "Python `3.6` uses the `input()` method.\n",
    "\n",
    "Python `2.7` uses the `raw_input()` method."
   ]
  },
  {
   "cell_type": "code",
   "execution_count": 1,
   "id": "2aae1465",
   "metadata": {},
   "outputs": [
    {
     "name": "stdout",
     "output_type": "stream",
     "text": [
      "Enter username:John\n",
      "Username is: John\n"
     ]
    }
   ],
   "source": [
    "username = input(\"Enter username:\")\n",
    "print(\"Username is: \" + username)"
   ]
  },
  {
   "cell_type": "code",
   "execution_count": null,
   "id": "4fc90c4a",
   "metadata": {},
   "outputs": [],
   "source": []
  }
 ],
 "metadata": {
  "kernelspec": {
   "display_name": "Python 3 (ipykernel)",
   "language": "python",
   "name": "python3"
  },
  "language_info": {
   "codemirror_mode": {
    "name": "ipython",
    "version": 3
   },
   "file_extension": ".py",
   "mimetype": "text/x-python",
   "name": "python",
   "nbconvert_exporter": "python",
   "pygments_lexer": "ipython3",
   "version": "3.9.14"
  }
 },
 "nbformat": 4,
 "nbformat_minor": 5
}
