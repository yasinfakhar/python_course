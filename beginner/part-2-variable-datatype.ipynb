{
 "cells": [
  {
   "cell_type": "markdown",
   "id": "7e262d17",
   "metadata": {},
   "source": [
    "## Creating a Comment"
   ]
  },
  {
   "cell_type": "code",
   "execution_count": null,
   "id": "82ec2f5c",
   "metadata": {},
   "outputs": [],
   "source": [
    "#This is a comment\n",
    "print(\"Hello, World!\")"
   ]
  },
  {
   "cell_type": "code",
   "execution_count": null,
   "id": "f8af4a42",
   "metadata": {},
   "outputs": [],
   "source": [
    "'''\n",
    "mulitple\n",
    "line\n",
    "comment\n",
    "'''\n",
    "print(\"Hello, World!\")"
   ]
  },
  {
   "cell_type": "markdown",
   "id": "60875497",
   "metadata": {},
   "source": [
    "## Creating Variables"
   ]
  },
  {
   "cell_type": "markdown",
   "id": "2f82db0a",
   "metadata": {},
   "source": [
    "Python has no command for declaring a variable.\n",
    "A variable is created the moment you first assign a value to it.\n",
    "\n",
    "you can check the type of a variable by command `type()`"
   ]
  },
  {
   "cell_type": "markdown",
   "id": "49c1c31d",
   "metadata": {},
   "source": [
    "Text Type: string (str)"
   ]
  },
  {
   "cell_type": "code",
   "execution_count": null,
   "id": "c09b8889",
   "metadata": {},
   "outputs": [],
   "source": [
    "name = \"John\"\n",
    "family = 'Legend'\n",
    "\n",
    "print(name)\n",
    "print(family)\n",
    "print(type(name))"
   ]
  },
  {
   "cell_type": "markdown",
   "id": "55e0f517",
   "metadata": {},
   "source": [
    "Numeric Types:\tint, float, complex"
   ]
  },
  {
   "cell_type": "code",
   "execution_count": null,
   "id": "20170901",
   "metadata": {},
   "outputs": [],
   "source": [
    "a = 2\n",
    "b = 2.34\n",
    "c = 5+3j\n",
    "# or complex(5,3)\n",
    "\n",
    "print(a , type(a))\n",
    "print(b , type(b))\n",
    "print(c , type(c))"
   ]
  },
  {
   "cell_type": "code",
   "execution_count": null,
   "id": "b23eb7fc",
   "metadata": {},
   "outputs": [],
   "source": [
    "a = 35e3\n",
    "b = 12E4\n",
    "c = -87.7e100\n",
    "\n",
    "print(a , type(a))\n",
    "print(b , type(b))\n",
    "print(c , type(c))"
   ]
  },
  {
   "cell_type": "markdown",
   "id": "24d52643",
   "metadata": {},
   "source": [
    "Binary Types: bytes, bytearray, memoryview"
   ]
  },
  {
   "cell_type": "code",
   "execution_count": null,
   "id": "51197731",
   "metadata": {},
   "outputs": [],
   "source": [
    "a = b\"Hello\"\n",
    "b = bytearray(5)\n",
    "c = memoryview(bytes(5))\n",
    "\n",
    "print(a , type(a))\n",
    "print(b , type(b))\n",
    "print(c , type(c))"
   ]
  },
  {
   "cell_type": "markdown",
   "id": "306bd1aa",
   "metadata": {},
   "source": [
    "Sequence Types:\tlist, tuple, range"
   ]
  },
  {
   "cell_type": "code",
   "execution_count": null,
   "id": "77df14f1",
   "metadata": {},
   "outputs": [],
   "source": [
    "a = [\"apple\", \"banana\", \"cherry\",]\n",
    "b = (\"apple\", \"banana\", \"cherry\")\n",
    "c = range(6)\n",
    "\n",
    "print(a , type(a))\n",
    "print(b , type(b))\n",
    "print(c , type(c))"
   ]
  },
  {
   "cell_type": "markdown",
   "id": "a21157e6",
   "metadata": {},
   "source": [
    "Mapping Type:\tdict"
   ]
  },
  {
   "cell_type": "code",
   "execution_count": null,
   "id": "3d0584ed",
   "metadata": {},
   "outputs": [],
   "source": [
    "a = {\"name\" : \"John\", \"age\" : 36}\n",
    "\n",
    "print(a , type(a))"
   ]
  },
  {
   "cell_type": "markdown",
   "id": "f30f19ab",
   "metadata": {},
   "source": [
    "Set Types:\tset, frozenset"
   ]
  },
  {
   "cell_type": "code",
   "execution_count": null,
   "id": "c35836ae",
   "metadata": {},
   "outputs": [],
   "source": [
    "a = {\"apple\", \"banana\", \"cherry\", \"cherry\"}\n",
    "b = frozenset({\"apple\", \"banana\", \"cherry\", \"cherry\"})\n",
    "\n",
    "print(a , type(a))\n",
    "print(b , type(b))"
   ]
  },
  {
   "cell_type": "markdown",
   "id": "fa8f508a",
   "metadata": {},
   "source": [
    "Note:\n",
    "* repeated items just count one\n",
    "* in sets we do not have prioirty\n",
    "* set object is not subscriptable"
   ]
  },
  {
   "cell_type": "code",
   "execution_count": null,
   "id": "7b5fbb62",
   "metadata": {},
   "outputs": [],
   "source": [
    "a = {\"apple\", \"banana\", \"cherry\", \"cherry\"}\n",
    "a[0]"
   ]
  },
  {
   "cell_type": "markdown",
   "id": "26f516e6",
   "metadata": {},
   "source": [
    "None Type:\tNoneType"
   ]
  },
  {
   "cell_type": "code",
   "execution_count": null,
   "id": "4d73db16",
   "metadata": {},
   "outputs": [],
   "source": [
    "a = None\n",
    "\n",
    "print(a , type(a))"
   ]
  },
  {
   "cell_type": "markdown",
   "id": "f9fd3613",
   "metadata": {},
   "source": [
    "## Variable Names\n",
    "\n",
    "* A variable can have a short name (like x and y) or a more descriptive name (age, carname, total_volume). Rules for Python variables:\n",
    "* A variable name must start with a letter or the underscore character\n",
    "* A variable name cannot start with a number\n",
    "* A variable name can only contain alpha-numeric characters and underscores (A-z, 0-9, and _ )\n",
    "* Variable names are case-sensitive (age, Age and AGE are three different variables)"
   ]
  },
  {
   "cell_type": "code",
   "execution_count": null,
   "id": "b01244f1",
   "metadata": {},
   "outputs": [],
   "source": [
    "#correct\n",
    "myvar = \"John\"\n",
    "my_var = \"John\"\n",
    "_my_var = \"John\"\n",
    "myVar = \"John\"\n",
    "MYVAR = \"John\"\n",
    "myvar2 = \"John\""
   ]
  },
  {
   "cell_type": "code",
   "execution_count": null,
   "id": "dd8a0ab7",
   "metadata": {},
   "outputs": [],
   "source": [
    "#incorrect\n",
    "2myvar = \"John\"\n",
    "my-var = \"John\"\n",
    "my var = \"John\""
   ]
  },
  {
   "cell_type": "markdown",
   "id": "b48933ae",
   "metadata": {},
   "source": [
    "## Many Values to Multiple Variables"
   ]
  },
  {
   "cell_type": "code",
   "execution_count": null,
   "id": "072408e6",
   "metadata": {},
   "outputs": [],
   "source": [
    "x, y, z = \"Orange\", \"Banana\", \"Cherry\"\n",
    "print(x)\n",
    "print(y)\n",
    "print(z)"
   ]
  },
  {
   "cell_type": "markdown",
   "id": "b53830f1",
   "metadata": {},
   "source": [
    "## One Value to Multiple Variables"
   ]
  },
  {
   "cell_type": "code",
   "execution_count": null,
   "id": "19f5a7a7",
   "metadata": {},
   "outputs": [],
   "source": [
    "x = y = z = \"Orange\"\n",
    "print(x)\n",
    "print(y)\n",
    "print(z)"
   ]
  },
  {
   "cell_type": "markdown",
   "id": "3c896297",
   "metadata": {},
   "source": [
    "## Unpack a Collection"
   ]
  },
  {
   "cell_type": "code",
   "execution_count": null,
   "id": "c03f8bc6",
   "metadata": {},
   "outputs": [],
   "source": [
    "fruits = [\"apple\", \"banana\", \"cherry\"]\n",
    "x, y, z = fruits\n",
    "print(x)\n",
    "print(y)\n",
    "print(z)"
   ]
  },
  {
   "cell_type": "markdown",
   "id": "c126eeb4",
   "metadata": {},
   "source": [
    "## Casting"
   ]
  },
  {
   "cell_type": "markdown",
   "id": "2b2ce47a",
   "metadata": {},
   "source": [
    "`int()` - constructs an integer number from an integer literal, a float literal (by removing all decimals), or a string literal (providing the string represents a whole number)\n",
    "\n",
    "`float()` - constructs a float number from an integer literal, a float literal or a string literal (providing the string represents a float or an integer)\n",
    "\n",
    "`str()` - constructs a string from a wide variety of data types, including strings, integer literals and float literals"
   ]
  },
  {
   "cell_type": "code",
   "execution_count": null,
   "id": "cc856d0a",
   "metadata": {},
   "outputs": [],
   "source": [
    "x = int(3)  \n",
    "y = int(3.2)\n",
    "z = int('3')"
   ]
  },
  {
   "cell_type": "code",
   "execution_count": null,
   "id": "2af4d5d7",
   "metadata": {},
   "outputs": [],
   "source": [
    "x = float(1)    \n",
    "y = float(2.8)  \n",
    "z = float(\"3\")  \n",
    "w = float(\"4.2\")"
   ]
  },
  {
   "cell_type": "code",
   "execution_count": null,
   "id": "147eec74",
   "metadata": {},
   "outputs": [],
   "source": [
    "x = str(\"s1\")\n",
    "y = str(2)   \n",
    "z = str(3.0)\n",
    "h = str(True) #\"True\"\n",
    "g = str(None) #\"None\""
   ]
  },
  {
   "cell_type": "code",
   "execution_count": null,
   "id": "5053bf44",
   "metadata": {},
   "outputs": [],
   "source": [
    "x = bool(\"s1\") #True\n",
    "y = bool(12) #True\n",
    "z = bool(0) #False"
   ]
  },
  {
   "cell_type": "code",
   "execution_count": null,
   "id": "e7034cfb",
   "metadata": {},
   "outputs": [],
   "source": [
    "int(None)"
   ]
  },
  {
   "cell_type": "markdown",
   "id": "99739ba5",
   "metadata": {},
   "source": [
    "## User Input\n",
    "Python allows for user input.\n",
    "\n",
    "That means we are able to ask the user for input.\n",
    "\n",
    "Python `3.6` uses the `input()` method.\n",
    "\n",
    "Python `2.7` uses the `raw_input()` method."
   ]
  },
  {
   "cell_type": "code",
   "execution_count": null,
   "id": "025bd988",
   "metadata": {},
   "outputs": [],
   "source": [
    "username = input(\"Enter username:\")\n",
    "print(\"Username is: \" + username)"
   ]
  },
  {
   "cell_type": "code",
   "execution_count": null,
   "id": "87b07bcb",
   "metadata": {},
   "outputs": [],
   "source": [
    "a = int(input())\n",
    "print(a + 2)"
   ]
  },
  {
   "cell_type": "code",
   "execution_count": null,
   "id": "31311158",
   "metadata": {},
   "outputs": [],
   "source": []
  }
 ],
 "metadata": {
  "kernelspec": {
   "display_name": "Python 3 (ipykernel)",
   "language": "python",
   "name": "python3"
  },
  "language_info": {
   "codemirror_mode": {
    "name": "ipython",
    "version": 3
   },
   "file_extension": ".py",
   "mimetype": "text/x-python",
   "name": "python",
   "nbconvert_exporter": "python",
   "pygments_lexer": "ipython3",
   "version": "3.8.0"
  }
 },
 "nbformat": 4,
 "nbformat_minor": 5
}
