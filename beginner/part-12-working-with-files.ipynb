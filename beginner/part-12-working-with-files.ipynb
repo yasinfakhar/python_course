{
 "cells": [
  {
   "cell_type": "markdown",
   "id": "96fd76e2",
   "metadata": {},
   "source": [
    "## File Handling\n",
    "Python has several functions for creating, reading, updating, and deleting files.\n",
    "\n",
    "The key function for working with files in Python is the `open()` function.\n",
    "\n",
    "The `open()` function takes two parameters; `filename`, and `mode`.\n",
    "\n",
    "There are four different methods (modes) for opening a file:\n",
    "\n",
    "* `r` - Read - Default value. Opens a file for reading, error if the file does not exist\n",
    "\n",
    "* `a` - Append - Opens a file for appending, creates the file if it does not exist\n",
    "\n",
    "* `w` - Write - Opens a file for writing, creates the file if it does not exist\n",
    "\n",
    "* `x` - Create - Creates the specified file, returns an error if the file exists\n",
    "\n",
    "In addition you can specify if the file should be handled as binary or text mode\n",
    "\n",
    "* `t` - Text - Default value. Text mode\n",
    "\n",
    "* `b` - Binary - Binary mode (e.g. images)"
   ]
  },
  {
   "cell_type": "code",
   "execution_count": 2,
   "id": "e2383d43",
   "metadata": {},
   "outputs": [],
   "source": [
    "f = open(\"testfile.txt\")"
   ]
  },
  {
   "cell_type": "code",
   "execution_count": 4,
   "id": "bfac8109",
   "metadata": {},
   "outputs": [],
   "source": [
    "f = open(\"testfile.txt\", \"rt\")"
   ]
  },
  {
   "cell_type": "markdown",
   "id": "3913668f",
   "metadata": {},
   "source": [
    "you can create the file if it does not exits"
   ]
  },
  {
   "cell_type": "code",
   "execution_count": 5,
   "id": "d90ca7ff",
   "metadata": {},
   "outputs": [],
   "source": [
    "f = open(\"testfile2.txt\", \"a\")"
   ]
  },
  {
   "cell_type": "markdown",
   "id": "782df8de",
   "metadata": {},
   "source": [
    "### Reading the content of a file\n",
    "`read()` method for reading the content of the file"
   ]
  },
  {
   "cell_type": "code",
   "execution_count": 7,
   "id": "c7d6cbe8",
   "metadata": {},
   "outputs": [
    {
     "name": "stdout",
     "output_type": "stream",
     "text": [
      "This is line 1\n",
      "This is line 2\n"
     ]
    }
   ],
   "source": [
    "f = open(\"testfile.txt\", \"r\")\n",
    "print(f.read())"
   ]
  },
  {
   "cell_type": "code",
   "execution_count": 11,
   "id": "0b0df827",
   "metadata": {},
   "outputs": [
    {
     "name": "stdout",
     "output_type": "stream",
     "text": [
      "This is line 1\n",
      "This is line 2\n"
     ]
    }
   ],
   "source": [
    "f = open(\"H:\\\\projects\\\\python\\\\python course\\\\beginner\\\\testfile.txt\", \"r\")\n",
    "print(f.read())"
   ]
  },
  {
   "cell_type": "markdown",
   "id": "7e4523c7",
   "metadata": {},
   "source": [
    "### Different ways to specify the full address\n",
    "\n",
    "windows:\n",
    "\n",
    "* use `\\\\` e.g. C:\\\\folder1\\\\test.txt\n",
    "* use `/` e.g. C:/folder1/test.txt\n",
    "\n",
    "linux:\n",
    "* use `/` e.g. /home/folder1/test.txt"
   ]
  },
  {
   "cell_type": "markdown",
   "id": "ff692222",
   "metadata": {},
   "source": [
    "### Read Only Parts of the File\n",
    "By default the `read()` method returns the whole text, but you can also specify how many characters you want to return:"
   ]
  },
  {
   "cell_type": "code",
   "execution_count": 14,
   "id": "bfaf63c6",
   "metadata": {},
   "outputs": [
    {
     "name": "stdout",
     "output_type": "stream",
     "text": [
      "This\n"
     ]
    }
   ],
   "source": [
    "f = open(\"testfile.txt\", \"r\")\n",
    "print(f.read(4))"
   ]
  },
  {
   "cell_type": "markdown",
   "id": "265fd379",
   "metadata": {},
   "source": [
    "### Read Lines\n",
    "You can return one line by using the `readline()` method:"
   ]
  },
  {
   "cell_type": "code",
   "execution_count": 16,
   "id": "c2ec99f5",
   "metadata": {},
   "outputs": [
    {
     "name": "stdout",
     "output_type": "stream",
     "text": [
      "This is line 1\n",
      "\n"
     ]
    }
   ],
   "source": [
    "f = open(\"testfile.txt\", \"r\")\n",
    "print(f.readline())"
   ]
  },
  {
   "cell_type": "code",
   "execution_count": 17,
   "id": "70d40781",
   "metadata": {},
   "outputs": [
    {
     "name": "stdout",
     "output_type": "stream",
     "text": [
      "This is line 1\n",
      "\n",
      "This is line 2\n"
     ]
    }
   ],
   "source": [
    "f = open(\"testfile.txt\", \"r\")\n",
    "print(f.readline())\n",
    "print(f.readline())"
   ]
  },
  {
   "cell_type": "markdown",
   "id": "449d2879",
   "metadata": {},
   "source": [
    "By looping through the lines of the file, you can read the whole file, line by line:"
   ]
  },
  {
   "cell_type": "code",
   "execution_count": 27,
   "id": "51cfc045",
   "metadata": {},
   "outputs": [
    {
     "name": "stdout",
     "output_type": "stream",
     "text": [
      "This is line 1\n",
      "\n",
      "This is line 2\n"
     ]
    }
   ],
   "source": [
    "f = open(\"testfile.txt\", \"rt\")\n",
    "for line in f:\n",
    "    print(line)"
   ]
  },
  {
   "cell_type": "markdown",
   "id": "ed189b2d",
   "metadata": {},
   "source": [
    "### Close Files\n",
    "Note: You should always close your files, in some cases, due to buffering, changes made to a file may not show until you close the file. It is a good practice to always close the file when you are done with it."
   ]
  },
  {
   "cell_type": "code",
   "execution_count": 24,
   "id": "2eb61b36",
   "metadata": {},
   "outputs": [
    {
     "name": "stdout",
     "output_type": "stream",
     "text": [
      "This is line 1\n",
      "\n"
     ]
    }
   ],
   "source": [
    "f = open(\"testfile.txt\", \"r\")\n",
    "print(f.readline())\n",
    "f.close()"
   ]
  },
  {
   "cell_type": "markdown",
   "id": "3af945bf",
   "metadata": {},
   "source": [
    "### Write to an Existing File\n",
    "To write to an existing file, you must add a parameter to the `open()` function:\n",
    "\n",
    "* `a` - Append - will append to the end of the file\n",
    "\n",
    "* `w` - Write - will overwrite any existing content"
   ]
  },
  {
   "cell_type": "code",
   "execution_count": 30,
   "id": "4cb40cef",
   "metadata": {},
   "outputs": [
    {
     "name": "stdout",
     "output_type": "stream",
     "text": [
      "This is line 1\n",
      "This is line 2Now the file has more content!Now the file has more content!\n"
     ]
    }
   ],
   "source": [
    "f = open(\"testfile.txt\", \"a\")\n",
    "f.write(\"Now the file has more content!\")\n",
    "f.close()\n",
    "\n",
    "#open and read the file after the appending:\n",
    "f = open(\"testfile.txt\", \"r\")\n",
    "print(f.read())\n",
    "f.close()"
   ]
  },
  {
   "cell_type": "code",
   "execution_count": 31,
   "id": "d1d7bb31",
   "metadata": {},
   "outputs": [
    {
     "name": "stdout",
     "output_type": "stream",
     "text": [
      "Woops! I have deleted the content!\n"
     ]
    }
   ],
   "source": [
    "f = open(\"testfile2.txt\", \"a\")\n",
    "f.write(\"This is first line \\nThis is second line\")\n",
    "f.close()\n",
    "\n",
    "f = open(\"testfile2.txt\", \"w\")\n",
    "f.write(\"Woops! I have deleted the content!\")\n",
    "f.close()\n",
    "\n",
    "#open and read the file after the overwriting:\n",
    "f = open(\"testfile2.txt\", \"r\")\n",
    "print(f.read())"
   ]
  },
  {
   "cell_type": "markdown",
   "id": "f791b595",
   "metadata": {},
   "source": [
    "for creating empty file we can also use `x` mode and if a file exists with the same name you will get an error"
   ]
  },
  {
   "cell_type": "code",
   "execution_count": 32,
   "id": "5969114c",
   "metadata": {},
   "outputs": [
    {
     "ename": "FileExistsError",
     "evalue": "[Errno 17] File exists: 'testfile2.txt'",
     "output_type": "error",
     "traceback": [
      "\u001b[1;31m---------------------------------------------------------------------------\u001b[0m",
      "\u001b[1;31mFileExistsError\u001b[0m                           Traceback (most recent call last)",
      "Cell \u001b[1;32mIn [32], line 1\u001b[0m\n\u001b[1;32m----> 1\u001b[0m f \u001b[38;5;241m=\u001b[39m \u001b[38;5;28;43mopen\u001b[39;49m\u001b[43m(\u001b[49m\u001b[38;5;124;43m\"\u001b[39;49m\u001b[38;5;124;43mtestfile2.txt\u001b[39;49m\u001b[38;5;124;43m\"\u001b[39;49m\u001b[43m,\u001b[49m\u001b[43m \u001b[49m\u001b[38;5;124;43m\"\u001b[39;49m\u001b[38;5;124;43mx\u001b[39;49m\u001b[38;5;124;43m\"\u001b[39;49m\u001b[43m)\u001b[49m\n",
      "File \u001b[1;32mc:\\users\\yasin\\appdata\\local\\programs\\python\\python38\\lib\\site-packages\\IPython\\core\\interactiveshell.py:282\u001b[0m, in \u001b[0;36m_modified_open\u001b[1;34m(file, *args, **kwargs)\u001b[0m\n\u001b[0;32m    275\u001b[0m \u001b[38;5;28;01mif\u001b[39;00m file \u001b[38;5;129;01min\u001b[39;00m {\u001b[38;5;241m0\u001b[39m, \u001b[38;5;241m1\u001b[39m, \u001b[38;5;241m2\u001b[39m}:\n\u001b[0;32m    276\u001b[0m     \u001b[38;5;28;01mraise\u001b[39;00m \u001b[38;5;167;01mValueError\u001b[39;00m(\n\u001b[0;32m    277\u001b[0m         \u001b[38;5;124mf\u001b[39m\u001b[38;5;124m\"\u001b[39m\u001b[38;5;124mIPython won\u001b[39m\u001b[38;5;124m'\u001b[39m\u001b[38;5;124mt let you open fd=\u001b[39m\u001b[38;5;132;01m{\u001b[39;00mfile\u001b[38;5;132;01m}\u001b[39;00m\u001b[38;5;124m by default \u001b[39m\u001b[38;5;124m\"\u001b[39m\n\u001b[0;32m    278\u001b[0m         \u001b[38;5;124m\"\u001b[39m\u001b[38;5;124mas it is likely to crash IPython. If you know what you are doing, \u001b[39m\u001b[38;5;124m\"\u001b[39m\n\u001b[0;32m    279\u001b[0m         \u001b[38;5;124m\"\u001b[39m\u001b[38;5;124myou can use builtins\u001b[39m\u001b[38;5;124m'\u001b[39m\u001b[38;5;124m open.\u001b[39m\u001b[38;5;124m\"\u001b[39m\n\u001b[0;32m    280\u001b[0m     )\n\u001b[1;32m--> 282\u001b[0m \u001b[38;5;28;01mreturn\u001b[39;00m \u001b[43mio_open\u001b[49m\u001b[43m(\u001b[49m\u001b[43mfile\u001b[49m\u001b[43m,\u001b[49m\u001b[43m \u001b[49m\u001b[38;5;241;43m*\u001b[39;49m\u001b[43margs\u001b[49m\u001b[43m,\u001b[49m\u001b[43m \u001b[49m\u001b[38;5;241;43m*\u001b[39;49m\u001b[38;5;241;43m*\u001b[39;49m\u001b[43mkwargs\u001b[49m\u001b[43m)\u001b[49m\n",
      "\u001b[1;31mFileExistsError\u001b[0m: [Errno 17] File exists: 'testfile2.txt'"
     ]
    }
   ],
   "source": [
    "f = open(\"testfile2.txt\", \"x\")"
   ]
  },
  {
   "cell_type": "markdown",
   "id": "08b509db",
   "metadata": {},
   "source": [
    "### Delete a File\n",
    "To delete a file, you must import the OS module, and run its `os.remove()` function:"
   ]
  },
  {
   "cell_type": "code",
   "execution_count": null,
   "id": "0f1cb63f",
   "metadata": {},
   "outputs": [],
   "source": [
    "import os\n",
    "os.remove(\"testfile2.txt\")"
   ]
  },
  {
   "cell_type": "markdown",
   "id": "caf7a7db",
   "metadata": {},
   "source": [
    "### Check if File exist:\n",
    "To avoid getting an error, you might want to check if the file exists before you try to delete it:"
   ]
  },
  {
   "cell_type": "code",
   "execution_count": null,
   "id": "31ebea4f",
   "metadata": {},
   "outputs": [],
   "source": [
    "import os\n",
    "if os.path.exists(\"demofile.txt\"):\n",
    "    os.remove(\"demofile.txt\")\n",
    "else:\n",
    "    print(\"The file does not exist\")"
   ]
  },
  {
   "cell_type": "markdown",
   "id": "5ecff980",
   "metadata": {},
   "source": [
    "### Delete Folder\n",
    "To delete an entire folder, use the `os.rmdir()` method:"
   ]
  },
  {
   "cell_type": "code",
   "execution_count": 33,
   "id": "c6060c44",
   "metadata": {},
   "outputs": [
    {
     "ename": "FileNotFoundError",
     "evalue": "[WinError 2] The system cannot find the file specified: 'myfolder'",
     "output_type": "error",
     "traceback": [
      "\u001b[1;31m---------------------------------------------------------------------------\u001b[0m",
      "\u001b[1;31mFileNotFoundError\u001b[0m                         Traceback (most recent call last)",
      "Cell \u001b[1;32mIn [33], line 2\u001b[0m\n\u001b[0;32m      1\u001b[0m \u001b[38;5;28;01mimport\u001b[39;00m \u001b[38;5;21;01mos\u001b[39;00m\n\u001b[1;32m----> 2\u001b[0m \u001b[43mos\u001b[49m\u001b[38;5;241;43m.\u001b[39;49m\u001b[43mrmdir\u001b[49m\u001b[43m(\u001b[49m\u001b[38;5;124;43m\"\u001b[39;49m\u001b[38;5;124;43mmyfolder\u001b[39;49m\u001b[38;5;124;43m\"\u001b[39;49m\u001b[43m)\u001b[49m\n",
      "\u001b[1;31mFileNotFoundError\u001b[0m: [WinError 2] The system cannot find the file specified: 'myfolder'"
     ]
    }
   ],
   "source": [
    "import os\n",
    "os.rmdir(\"myfolder\")"
   ]
  },
  {
   "cell_type": "code",
   "execution_count": 35,
   "id": "63ab835a",
   "metadata": {},
   "outputs": [
    {
     "name": "stdout",
     "output_type": "stream",
     "text": [
      "folder exists\n"
     ]
    }
   ],
   "source": [
    "import os\n",
    " \n",
    "# Specify path\n",
    "path = 'myfolder\n",
    "'\n",
    " \n",
    "# Check whether the specified\n",
    "# path exists or not\n",
    "isExist = os.path.exists(path)\n",
    "if isExist:\n",
    "    print('folder exists')\n",
    "else:\n",
    "    print('folder not exits')"
   ]
  }
 ],
 "metadata": {
  "kernelspec": {
   "display_name": "Python 3 (ipykernel)",
   "language": "python",
   "name": "python3"
  },
  "language_info": {
   "codemirror_mode": {
    "name": "ipython",
    "version": 3
   },
   "file_extension": ".py",
   "mimetype": "text/x-python",
   "name": "python",
   "nbconvert_exporter": "python",
   "pygments_lexer": "ipython3",
   "version": "3.8.0"
  }
 },
 "nbformat": 4,
 "nbformat_minor": 5
}
