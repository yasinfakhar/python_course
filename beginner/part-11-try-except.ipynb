{
 "cells": [
  {
   "cell_type": "markdown",
   "id": "685df7dc",
   "metadata": {},
   "source": [
    "During coding with python you may face some errors (we call the exceptions) duo to some mistakes you made, but we can prevent these expetions in order to prevent our code from crashing"
   ]
  },
  {
   "cell_type": "code",
   "execution_count": 2,
   "id": "7f05d057",
   "metadata": {},
   "outputs": [
    {
     "ename": "ZeroDivisionError",
     "evalue": "division by zero",
     "output_type": "error",
     "traceback": [
      "\u001b[1;31m---------------------------------------------------------------------------\u001b[0m",
      "\u001b[1;31mZeroDivisionError\u001b[0m                         Traceback (most recent call last)",
      "Cell \u001b[1;32mIn [2], line 3\u001b[0m\n\u001b[0;32m      1\u001b[0m a \u001b[38;5;241m=\u001b[39m \u001b[38;5;241m2\u001b[39m\n\u001b[0;32m      2\u001b[0m b \u001b[38;5;241m=\u001b[39m \u001b[38;5;241m0\u001b[39m\n\u001b[1;32m----> 3\u001b[0m \u001b[38;5;28mprint\u001b[39m(\u001b[43ma\u001b[49m\u001b[38;5;241;43m/\u001b[39;49m\u001b[43mb\u001b[49m)\n",
      "\u001b[1;31mZeroDivisionError\u001b[0m: division by zero"
     ]
    }
   ],
   "source": [
    "a = 2\n",
    "b = 0\n",
    "print(a/b)"
   ]
  },
  {
   "cell_type": "code",
   "execution_count": 3,
   "id": "07b99951",
   "metadata": {},
   "outputs": [
    {
     "ename": "IndexError",
     "evalue": "list index out of range",
     "output_type": "error",
     "traceback": [
      "\u001b[1;31m---------------------------------------------------------------------------\u001b[0m",
      "\u001b[1;31mIndexError\u001b[0m                                Traceback (most recent call last)",
      "Cell \u001b[1;32mIn [3], line 2\u001b[0m\n\u001b[0;32m      1\u001b[0m a \u001b[38;5;241m=\u001b[39m [\u001b[38;5;241m0\u001b[39m, \u001b[38;5;241m1\u001b[39m, \u001b[38;5;241m2\u001b[39m, \u001b[38;5;241m3\u001b[39m]\n\u001b[1;32m----> 2\u001b[0m \u001b[38;5;28mprint\u001b[39m(\u001b[43ma\u001b[49m\u001b[43m[\u001b[49m\u001b[38;5;241;43m5\u001b[39;49m\u001b[43m]\u001b[49m)\n",
      "\u001b[1;31mIndexError\u001b[0m: list index out of range"
     ]
    }
   ],
   "source": [
    "a = [0, 1, 2, 3]\n",
    "print(a[5])"
   ]
  },
  {
   "cell_type": "code",
   "execution_count": 4,
   "id": "c2fe365f",
   "metadata": {},
   "outputs": [
    {
     "ename": "IndentationError",
     "evalue": "expected an indented block (3105055298.py, line 3)",
     "output_type": "error",
     "traceback": [
      "\u001b[1;36m  Cell \u001b[1;32mIn [4], line 3\u001b[1;36m\u001b[0m\n\u001b[1;33m    print('bigger')\u001b[0m\n\u001b[1;37m    ^\u001b[0m\n\u001b[1;31mIndentationError\u001b[0m\u001b[1;31m:\u001b[0m expected an indented block\n"
     ]
    }
   ],
   "source": [
    "a = 1\n",
    "if a > 2:\n",
    "print('bigger')"
   ]
  },
  {
   "cell_type": "markdown",
   "id": "a169d692",
   "metadata": {},
   "source": [
    "## Different kind of errors\n",
    "\n",
    "* syntax errors \n",
    "* logic errors\n",
    "* runtime errors"
   ]
  },
  {
   "cell_type": "markdown",
   "id": "6eb74f84",
   "metadata": {},
   "source": [
    "### Syntax errors\n",
    "one of the errors that occur when you do not observe the syntax of python (e.g: indentation error)\n",
    "\n",
    "These kind of errors will be prevented by Python Interpreter"
   ]
  },
  {
   "cell_type": "code",
   "execution_count": 6,
   "id": "0965be91",
   "metadata": {},
   "outputs": [
    {
     "ename": "TypeError",
     "evalue": "'list' object is not callable",
     "output_type": "error",
     "traceback": [
      "\u001b[1;31m---------------------------------------------------------------------------\u001b[0m",
      "\u001b[1;31mTypeError\u001b[0m                                 Traceback (most recent call last)",
      "Cell \u001b[1;32mIn [6], line 2\u001b[0m\n\u001b[0;32m      1\u001b[0m a \u001b[38;5;241m=\u001b[39m [\u001b[38;5;241m1\u001b[39m,\u001b[38;5;241m2\u001b[39m,\u001b[38;5;241m3\u001b[39m]\n\u001b[1;32m----> 2\u001b[0m \u001b[43ma\u001b[49m\u001b[43m(\u001b[49m\u001b[38;5;241;43m2\u001b[39;49m\u001b[43m)\u001b[49m\n",
      "\u001b[1;31mTypeError\u001b[0m: 'list' object is not callable"
     ]
    }
   ],
   "source": [
    "a = [1,2,3]\n",
    "a(2)"
   ]
  },
  {
   "cell_type": "markdown",
   "id": "0813527e",
   "metadata": {},
   "source": [
    "### Logic errors\n",
    "one of the errors that occur when you do not expect the result\n",
    "\n",
    "These kind of errors should be handled by programmer"
   ]
  },
  {
   "cell_type": "code",
   "execution_count": 12,
   "id": "cb8b0a5c",
   "metadata": {},
   "outputs": [
    {
     "name": "stdout",
     "output_type": "stream",
     "text": [
      "my name is John\bI am 23\n"
     ]
    }
   ],
   "source": [
    "# using /b instead of /n\n",
    "print('my name is John\\bI am 23')"
   ]
  },
  {
   "cell_type": "markdown",
   "id": "db0a843c",
   "metadata": {},
   "source": [
    "### Runtime errors\n",
    "one of the errors that occur when you do not expect the result\n",
    "\n",
    "These kind of errors should be handled by programmer"
   ]
  },
  {
   "cell_type": "code",
   "execution_count": 23,
   "id": "6bd682bc",
   "metadata": {},
   "outputs": [
    {
     "name": "stdout",
     "output_type": "stream",
     "text": [
      "enter a number : 1222222222222222222222222222222222222222222222222222222222222222222222222222222222222222222222222222222222222222222222222222222\n"
     ]
    },
    {
     "ename": "OverflowError",
     "evalue": "(34, 'Result too large')",
     "output_type": "error",
     "traceback": [
      "\u001b[1;31m---------------------------------------------------------------------------\u001b[0m",
      "\u001b[1;31mOverflowError\u001b[0m                             Traceback (most recent call last)",
      "Cell \u001b[1;32mIn [23], line 2\u001b[0m\n\u001b[0;32m      1\u001b[0m num \u001b[38;5;241m=\u001b[39m \u001b[38;5;28mfloat\u001b[39m(\u001b[38;5;28minput\u001b[39m(\u001b[38;5;124m\"\u001b[39m\u001b[38;5;124menter a number : \u001b[39m\u001b[38;5;124m\"\u001b[39m))\n\u001b[1;32m----> 2\u001b[0m \u001b[38;5;28mprint\u001b[39m(\u001b[43mnum\u001b[49m\u001b[38;5;241;43m*\u001b[39;49m\u001b[38;5;241;43m*\u001b[39;49m\u001b[43mnum\u001b[49m)\n",
      "\u001b[1;31mOverflowError\u001b[0m: (34, 'Result too large')"
     ]
    }
   ],
   "source": [
    "num = float(input(\"enter a number : \"))\n",
    "print(num**num)"
   ]
  },
  {
   "cell_type": "markdown",
   "id": "9d2c68ec",
   "metadata": {},
   "source": [
    "## Exception Handling\n",
    "When an error occurs, or exception as we call it, Python will normally stop and generate an error message.\n",
    "\n",
    "These exceptions can be handled using the try statement:"
   ]
  },
  {
   "cell_type": "markdown",
   "id": "128170a4",
   "metadata": {},
   "source": [
    "The `try` block lets you test a block of code for errors.\n",
    "\n",
    "The `except` block lets you handle the error."
   ]
  },
  {
   "cell_type": "code",
   "execution_count": 25,
   "id": "052178c7",
   "metadata": {},
   "outputs": [
    {
     "name": "stdout",
     "output_type": "stream",
     "text": [
      "enter a number : 100000000000000000000000000000000000000000000000000000000000000000000000000000000000000000\n",
      "something went wrong\n"
     ]
    }
   ],
   "source": [
    "num = float(input(\"enter a number : \"))\n",
    "try:\n",
    "    print(num**num)\n",
    "except:\n",
    "    print('something went wrong')"
   ]
  },
  {
   "cell_type": "markdown",
   "id": "9e80ec2f",
   "metadata": {},
   "source": [
    "we can handle each exeption type seperately"
   ]
  },
  {
   "cell_type": "code",
   "execution_count": 40,
   "id": "682ab1b7",
   "metadata": {},
   "outputs": [
    {
     "name": "stdout",
     "output_type": "stream",
     "text": [
      "enter a number : 1\n",
      "1.0\n"
     ]
    }
   ],
   "source": [
    "# entering nothing or invalid input will raise ValueError\n",
    "# entering zero will raise ZeroDivisionError\n",
    "# entering a very large number (7.52316384526264e+83) will raise OverflowError\n",
    "num = float(input(\"enter a number : \"))\n",
    "print(num**num/num)"
   ]
  },
  {
   "cell_type": "code",
   "execution_count": 43,
   "id": "1eadfad9",
   "metadata": {},
   "outputs": [
    {
     "name": "stdout",
     "output_type": "stream",
     "text": [
      "enter a number : \n",
      "ValueError\n"
     ]
    }
   ],
   "source": [
    "try:\n",
    "    num = float(input(\"enter a number : \"))\n",
    "    print(num**num/num)\n",
    "except ValueError:\n",
    "    print('ValueError')\n",
    "except ZeroDivisionError:\n",
    "    print('ZeroDivisionError')\n",
    "except OverflowError:\n",
    "    print('OverflowError')"
   ]
  },
  {
   "cell_type": "markdown",
   "id": "3f7f8069",
   "metadata": {},
   "source": [
    "## Else\n",
    "You can use the `else` keyword to define a block of code to be executed if no errors were raised:"
   ]
  },
  {
   "cell_type": "code",
   "execution_count": 45,
   "id": "96ea6f31",
   "metadata": {},
   "outputs": [
    {
     "name": "stdout",
     "output_type": "stream",
     "text": [
      "enter a number : 2\n",
      "2.0\n",
      "every thing in OK\n"
     ]
    }
   ],
   "source": [
    "try:\n",
    "    num = float(input(\"enter a number : \"))\n",
    "    print(num**num/num)\n",
    "except ValueError:\n",
    "    print('ValueError')\n",
    "except ZeroDivisionError:\n",
    "    print('ZeroDivisionError')\n",
    "except OverflowError:\n",
    "    print('OverflowError')\n",
    "else:\n",
    "    print('every thing in OK')"
   ]
  },
  {
   "cell_type": "markdown",
   "id": "87ea5865",
   "metadata": {},
   "source": [
    "## Finally\n",
    "The `finally` block, if specified, will be executed regardless if the try block raises an error or not."
   ]
  },
  {
   "cell_type": "code",
   "execution_count": 47,
   "id": "1f2ccfba",
   "metadata": {},
   "outputs": [
    {
     "name": "stdout",
     "output_type": "stream",
     "text": [
      "enter a number : \n",
      "ValueError\n",
      "finally will be printed whehter exception occurs or not\n"
     ]
    }
   ],
   "source": [
    "try:\n",
    "    num = float(input(\"enter a number : \"))\n",
    "    print(num**num/num)\n",
    "except ValueError:\n",
    "    print('ValueError')\n",
    "except ZeroDivisionError:\n",
    "    print('ZeroDivisionError')\n",
    "except OverflowError:\n",
    "    print('OverflowError')\n",
    "else:\n",
    "    print('every thing in OK')\n",
    "finally:\n",
    "    print('finally block will be printed whether exception occurs or not')"
   ]
  },
  {
   "cell_type": "markdown",
   "id": "daa87799",
   "metadata": {},
   "source": [
    "## Raise an exception\n",
    "As a Python developer you can choose to throw an exception if a condition occurs.\n",
    "\n",
    "To throw (or raise) an exception, use the `raise` keyword."
   ]
  },
  {
   "cell_type": "code",
   "execution_count": 48,
   "id": "09a4c8c0",
   "metadata": {},
   "outputs": [
    {
     "ename": "Exception",
     "evalue": "Sorry, no numbers below zero",
     "output_type": "error",
     "traceback": [
      "\u001b[1;31m---------------------------------------------------------------------------\u001b[0m",
      "\u001b[1;31mException\u001b[0m                                 Traceback (most recent call last)",
      "Cell \u001b[1;32mIn [48], line 4\u001b[0m\n\u001b[0;32m      1\u001b[0m x \u001b[38;5;241m=\u001b[39m \u001b[38;5;241m-\u001b[39m\u001b[38;5;241m1\u001b[39m\n\u001b[0;32m      3\u001b[0m \u001b[38;5;28;01mif\u001b[39;00m x \u001b[38;5;241m<\u001b[39m \u001b[38;5;241m0\u001b[39m:\n\u001b[1;32m----> 4\u001b[0m     \u001b[38;5;28;01mraise\u001b[39;00m \u001b[38;5;167;01mException\u001b[39;00m(\u001b[38;5;124m\"\u001b[39m\u001b[38;5;124mSorry, no numbers below zero\u001b[39m\u001b[38;5;124m\"\u001b[39m)\n",
      "\u001b[1;31mException\u001b[0m: Sorry, no numbers below zero"
     ]
    }
   ],
   "source": [
    "x = -1\n",
    "\n",
    "if x < 0:\n",
    "    raise Exception(\"Sorry, no numbers below zero\")"
   ]
  },
  {
   "cell_type": "code",
   "execution_count": 49,
   "id": "47edd000",
   "metadata": {},
   "outputs": [
    {
     "ename": "TypeError",
     "evalue": "Only integers are allowed",
     "output_type": "error",
     "traceback": [
      "\u001b[1;31m---------------------------------------------------------------------------\u001b[0m",
      "\u001b[1;31mTypeError\u001b[0m                                 Traceback (most recent call last)",
      "Cell \u001b[1;32mIn [49], line 4\u001b[0m\n\u001b[0;32m      1\u001b[0m x \u001b[38;5;241m=\u001b[39m \u001b[38;5;124m\"\u001b[39m\u001b[38;5;124mhello\u001b[39m\u001b[38;5;124m\"\u001b[39m\n\u001b[0;32m      3\u001b[0m \u001b[38;5;28;01mif\u001b[39;00m \u001b[38;5;129;01mnot\u001b[39;00m \u001b[38;5;28mtype\u001b[39m(x) \u001b[38;5;129;01mis\u001b[39;00m \u001b[38;5;28mint\u001b[39m:\n\u001b[1;32m----> 4\u001b[0m     \u001b[38;5;28;01mraise\u001b[39;00m \u001b[38;5;167;01mTypeError\u001b[39;00m(\u001b[38;5;124m\"\u001b[39m\u001b[38;5;124mOnly integers are allowed\u001b[39m\u001b[38;5;124m\"\u001b[39m)\n",
      "\u001b[1;31mTypeError\u001b[0m: Only integers are allowed"
     ]
    }
   ],
   "source": [
    "x = \"hello\"\n",
    "\n",
    "if not type(x) is int:\n",
    "    raise TypeError(\"Only integers are allowed\")"
   ]
  },
  {
   "cell_type": "code",
   "execution_count": null,
   "id": "22f2a266",
   "metadata": {},
   "outputs": [],
   "source": []
  }
 ],
 "metadata": {
  "kernelspec": {
   "display_name": "Python 3 (ipykernel)",
   "language": "python",
   "name": "python3"
  },
  "language_info": {
   "codemirror_mode": {
    "name": "ipython",
    "version": 3
   },
   "file_extension": ".py",
   "mimetype": "text/x-python",
   "name": "python",
   "nbconvert_exporter": "python",
   "pygments_lexer": "ipython3",
   "version": "3.8.0"
  }
 },
 "nbformat": 4,
 "nbformat_minor": 5
}
