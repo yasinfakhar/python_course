{
 "cells": [
  {
   "cell_type": "markdown",
   "id": "a7baa9a5",
   "metadata": {},
   "source": [
    "## Python Classes and Objects"
   ]
  },
  {
   "cell_type": "markdown",
   "id": "11dfa170",
   "metadata": {},
   "source": [
    "* Almost everything in Python is an object, with its properties and methods.\n",
    "* A Class is like an object constructor, or a \"blueprint\" for creating objects."
   ]
  },
  {
   "cell_type": "markdown",
   "id": "c29ffba5",
   "metadata": {},
   "source": [
    "To create a class, use the keyword `class`:"
   ]
  },
  {
   "cell_type": "code",
   "execution_count": 2,
   "id": "bd55ac2a",
   "metadata": {},
   "outputs": [],
   "source": [
    "class MyClass:\n",
    "    x = 5"
   ]
  },
  {
   "cell_type": "markdown",
   "id": "19aca34e",
   "metadata": {},
   "source": [
    "## Create Object\n",
    "Now we can use the class named MyClass to create objects:"
   ]
  },
  {
   "cell_type": "code",
   "execution_count": 3,
   "id": "316a0fd5",
   "metadata": {},
   "outputs": [
    {
     "name": "stdout",
     "output_type": "stream",
     "text": [
      "5\n"
     ]
    }
   ],
   "source": [
    "p1 = MyClass()\n",
    "print(p1.x)"
   ]
  },
  {
   "cell_type": "markdown",
   "id": "37cb6608",
   "metadata": {},
   "source": [
    "The examples above are classes and objects in their simplest form, and are not really useful in real life applications.\n",
    "\n",
    "To understand the meaning of classes we have to understand the built-in `__init__()` function.\n",
    "\n",
    "All classes have a function called `__init__()`, which is always executed when the class is being initiated.\n",
    "\n",
    "Use the `__init__()` function to assign values to object properties, or other operations that are necessary to do when the object is being created:"
   ]
  },
  {
   "cell_type": "code",
   "execution_count": null,
   "id": "46ebe15f",
   "metadata": {},
   "outputs": [],
   "source": []
  }
 ],
 "metadata": {
  "kernelspec": {
   "display_name": "Python 3 (ipykernel)",
   "language": "python",
   "name": "python3"
  },
  "language_info": {
   "codemirror_mode": {
    "name": "ipython",
    "version": 3
   },
   "file_extension": ".py",
   "mimetype": "text/x-python",
   "name": "python",
   "nbconvert_exporter": "python",
   "pygments_lexer": "ipython3",
   "version": "3.8.0"
  }
 },
 "nbformat": 4,
 "nbformat_minor": 5
}
