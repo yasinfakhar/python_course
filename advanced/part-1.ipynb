{
 "cells": [
  {
   "cell_type": "markdown",
   "id": "d2439c94",
   "metadata": {},
   "source": [
    "## String function - str() and repr()\n",
    "There are two functions that can be used to obtain a readable representation of an object.\n",
    "\n",
    "repr(x) calls `x.__repr__()`: a representation of x. eval will usually convert the result of this function back to the\n",
    "original object.\n",
    "\n",
    "str(x) calls `x.__str__()`: a human-readable string that describes the object. This may elide some technical detail."
   ]
  },
  {
   "cell_type": "code",
   "execution_count": null,
   "id": "7014157c",
   "metadata": {},
   "outputs": [],
   "source": [
    "s = \"\"\"w'o\"w\"\"\"\n",
    "repr(s) # Output: '\\'w\\\\\\'o\"w\\''\n",
    "str(s) # Output: 'w\\'o\"w'\n",
    "#eval(str(s)) == s # Gives a SyntaxError\n",
    "eval(repr(s)) == s # Output: True"
   ]
  },
  {
   "cell_type": "code",
   "execution_count": null,
   "id": "5428e79a",
   "metadata": {},
   "outputs": [],
   "source": [
    "import datetime\n",
    "today = datetime.datetime.now()\n",
    "print(str(today)) \n",
    "print(repr(today))"
   ]
  },
  {
   "cell_type": "code",
   "execution_count": null,
   "id": "0d3d985b",
   "metadata": {},
   "outputs": [],
   "source": [
    "same_obj = eval(repr(today))\n",
    "same_obj.now()"
   ]
  }
 ],
 "metadata": {
  "kernelspec": {
   "display_name": "Python 3 (ipykernel)",
   "language": "python",
   "name": "python3"
  },
  "language_info": {
   "codemirror_mode": {
    "name": "ipython",
    "version": 3
   },
   "file_extension": ".py",
   "mimetype": "text/x-python",
   "name": "python",
   "nbconvert_exporter": "python",
   "pygments_lexer": "ipython3",
   "version": "3.8.0"
  }
 },
 "nbformat": 4,
 "nbformat_minor": 5
}
