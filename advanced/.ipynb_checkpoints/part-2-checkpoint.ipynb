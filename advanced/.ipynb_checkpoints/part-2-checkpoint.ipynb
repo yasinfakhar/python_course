{
 "cells": [
  {
   "cell_type": "markdown",
   "id": "bdd4bc9f",
   "metadata": {},
   "source": [
    "## Creating an enum (Python 2.4 through 3.3)"
   ]
  },
  {
   "cell_type": "code",
   "execution_count": 1,
   "id": "d19983b7",
   "metadata": {},
   "outputs": [
    {
     "name": "stdout",
     "output_type": "stream",
     "text": [
      "Collecting enum34"
     ]
    },
    {
     "name": "stderr",
     "output_type": "stream",
     "text": [
      "\n",
      "[notice] A new release of pip available: 22.2.2 -> 23.0.1\n",
      "[notice] To update, run: python.exe -m pip install --upgrade pip\n"
     ]
    },
    {
     "name": "stdout",
     "output_type": "stream",
     "text": [
      "\n",
      "  Downloading enum34-1.1.10-py3-none-any.whl (11 kB)\n",
      "Installing collected packages: enum34\n",
      "Successfully installed enum34-1.1.10\n"
     ]
    }
   ],
   "source": [
    "!pip install enum34"
   ]
  },
  {
   "cell_type": "code",
   "execution_count": 3,
   "id": "09e5c438",
   "metadata": {},
   "outputs": [
    {
     "name": "stdout",
     "output_type": "stream",
     "text": [
      "Color.red\n",
      "Color.red\n",
      "Color.red\n",
      "<enum 'Color'>\n"
     ]
    }
   ],
   "source": [
    "from enum import Enum\n",
    "\n",
    "class Color(Enum):\n",
    "    red = 1\n",
    "    green = 2\n",
    "    blue = 3\n",
    "\n",
    "print(Color.red) # Color.red\n",
    "print(Color(1)) # Color.red\n",
    "print(Color['red']) # Color.red\n",
    "print(type(Color.red))"
   ]
  },
  {
   "cell_type": "markdown",
   "id": "d0f6e821",
   "metadata": {},
   "source": [
    "### Iteration over Enum"
   ]
  },
  {
   "cell_type": "code",
   "execution_count": 7,
   "id": "fed50868",
   "metadata": {},
   "outputs": [
    {
     "data": {
      "text/plain": [
       "[<Color.red: 1>, <Color.green: 2>, <Color.blue: 3>]"
      ]
     },
     "execution_count": 7,
     "metadata": {},
     "output_type": "execute_result"
    }
   ],
   "source": [
    "class Color(Enum):\n",
    "    red = 1\n",
    "    green = 2\n",
    "    blue = 3\n",
    "    \n",
    "[c for c in Color]"
   ]
  }
 ],
 "metadata": {
  "kernelspec": {
   "display_name": "Python 3 (ipykernel)",
   "language": "python",
   "name": "python3"
  },
  "language_info": {
   "codemirror_mode": {
    "name": "ipython",
    "version": 3
   },
   "file_extension": ".py",
   "mimetype": "text/x-python",
   "name": "python",
   "nbconvert_exporter": "python",
   "pygments_lexer": "ipython3",
   "version": "3.8.0"
  }
 },
 "nbformat": 4,
 "nbformat_minor": 5
}
