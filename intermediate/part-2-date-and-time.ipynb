{
 "cells": [
  {
   "cell_type": "markdown",
   "id": "f1c7a0fa",
   "metadata": {},
   "source": [
    "## Python Dates"
   ]
  },
  {
   "cell_type": "markdown",
   "id": "3420f729",
   "metadata": {},
   "source": [
    "A date in Python is not a data type of its own, but we can import a module named datetime to work with dates as date objects."
   ]
  },
  {
   "cell_type": "code",
   "execution_count": 1,
   "id": "29281fa4",
   "metadata": {},
   "outputs": [
    {
     "name": "stdout",
     "output_type": "stream",
     "text": [
      "2023-02-22 13:52:44.467715\n"
     ]
    }
   ],
   "source": [
    "import datetime\n",
    "\n",
    "x = datetime.datetime.now()\n",
    "print(x)"
   ]
  },
  {
   "cell_type": "markdown",
   "id": "e300f758",
   "metadata": {},
   "source": [
    "The date contains year, month, day, hour, minute, second, and microsecond.\n",
    "\n",
    "The datetime module has many methods to return information about the date object."
   ]
  },
  {
   "cell_type": "code",
   "execution_count": 7,
   "id": "d1050d58",
   "metadata": {},
   "outputs": [
    {
     "name": "stdout",
     "output_type": "stream",
     "text": [
      "2023\n",
      "2\n",
      "22\n"
     ]
    }
   ],
   "source": [
    "import datetime\n",
    "\n",
    "x = datetime.datetime.now()\n",
    "\n",
    "print(x.year)\n",
    "print(x.month)\n",
    "print(x.day)"
   ]
  },
  {
   "cell_type": "markdown",
   "id": "36f26097",
   "metadata": {},
   "source": [
    "## Creating Date Objects\n",
    "To create a date, we can use the `datetime()` class (constructor) of the datetime module.\n",
    "\n",
    "The `datetime()` class requires three parameters to create a date: year, month, day."
   ]
  },
  {
   "cell_type": "code",
   "execution_count": 5,
   "id": "12a3d699",
   "metadata": {},
   "outputs": [
    {
     "name": "stdout",
     "output_type": "stream",
     "text": [
      "2020-05-17 00:00:00\n"
     ]
    }
   ],
   "source": [
    "import datetime\n",
    "\n",
    "x = datetime.datetime(2020, 5, 17)\n",
    "\n",
    "print(x)"
   ]
  },
  {
   "cell_type": "markdown",
   "id": "5b3d87ac",
   "metadata": {},
   "source": [
    "The `datetime()` class also takes parameters for time and timezone (hour, minute, second, microsecond, tzone), but they are optional, and has a default value of 0, (None for timezone)."
   ]
  },
  {
   "cell_type": "markdown",
   "id": "28673246",
   "metadata": {},
   "source": [
    "## The `strftime()` Method\n",
    "The datetime object has a method for formatting date objects into readable strings.\n",
    "\n",
    "The method is called `strftime()`, and takes one parameter, format, to specify the format of the returned string:"
   ]
  },
  {
   "cell_type": "code",
   "execution_count": 10,
   "id": "982e9cf2",
   "metadata": {},
   "outputs": [
    {
     "name": "stdout",
     "output_type": "stream",
     "text": [
      "2023-02-22 14:01:57.960920\n",
      "Wednesday\n",
      "February\n"
     ]
    }
   ],
   "source": [
    "import datetime\n",
    "\n",
    "x = datetime.datetime.now()\n",
    "\n",
    "print(x)\n",
    "print(x.strftime(\"%A\"))\n",
    "print(x.strftime(\"%B\"))"
   ]
  },
  {
   "cell_type": "markdown",
   "id": "48ffe32b",
   "metadata": {},
   "source": [
    "### all the legal format codes\n",
    "(https://docs.python.org/3/library/datetime.html)"
   ]
  },
  {
   "cell_type": "markdown",
   "id": "fc6f5c0f",
   "metadata": {},
   "source": [
    "`%a`\tWeekday, short version\t`Wed`\t\n",
    "`%A`\tWeekday, full version\t`Wednesday`\n",
    "\n",
    "`%w`\tWeekday as a number 0-6, 0 is Sunday `3`\t\n",
    "`%d`\tDay of month 01-31\t`31`\t\n",
    "`%b`\tMonth name, short version\t`Dec`\t\n",
    "`%B`\tMonth name, full version\t`December`\t\n",
    "`%m`\tMonth as a number 01-12\t`12`\t\n",
    "`%y`\tYear, short version, without century\t`18`\t\n",
    "`%Y`\tYear, full version\t`2018`\t\n",
    "`%H`\tHour 00-23\t`17`\t\n",
    "`%I`\tHour 00-12\t`05`\t\n",
    "`%p`\tAM/PM\t`PM`\t\n",
    "`%M`\tMinute 00-59\t`41`\t\n",
    "`%S`\tSecond 00-59\t`08`\t\n",
    "`%f`\tMicrosecond 000000-999999\t`548513`\t\n",
    "`%z`\tUTC offset\t`+0100`\t\n",
    "`%Z`\tTimezone\t`CST`\t\n",
    "`%j`\tDay number of year 001-366\t`365`\t\n",
    "`%U`\tWeek number of year, Sunday as the first day of week, 00-53\t`52`\n",
    "\n",
    "`%W`\tWeek number of year, Monday as the first day of week, 00-53\t`52`\t\n",
    "`%c`\tLocal version of date and time\tMon Dec 31 17:41:00 `2018`\t\n",
    "`%C`\tCentury\t`20`\t\n",
    "`%x`\tLocal version of date\t`12/31/18`\t\n",
    "`%X`\tLocal version of time\t`17:41:00`\t\n",
    "`%%`\tA % character\t`%`\t\n",
    "`%G`\tISO 8601 year\t`2018`\t\n",
    "`%u`\tISO 8601 weekday (1-7)\t`1`\t\n",
    "`%V`\tISO 8601 weeknumber (01-53)\t`01`"
   ]
  },
  {
   "cell_type": "markdown",
   "id": "4c8d601c",
   "metadata": {},
   "source": [
    "## Parsing a string into a timezone aware datetime object\n",
    "Python 3.x Version≥ 3.2"
   ]
  },
  {
   "cell_type": "code",
   "execution_count": 12,
   "id": "f9a54842",
   "metadata": {},
   "outputs": [
    {
     "data": {
      "text/plain": [
       "datetime.datetime(2016, 4, 15, 8, 27, 18, tzinfo=datetime.timezone(datetime.timedelta(days=-1, seconds=68400)))"
      ]
     },
     "execution_count": 12,
     "metadata": {},
     "output_type": "execute_result"
    }
   ],
   "source": [
    "import datetime\n",
    "datetime.datetime.strptime(\"2016-04-15T08:27:18-0500\", \"%Y-%m-%dT%H:%M:%S%z\")"
   ]
  },
  {
   "cell_type": "markdown",
   "id": "fc80a73d",
   "metadata": {},
   "source": [
    "you can use an external library such as `dateutil`"
   ]
  },
  {
   "cell_type": "code",
   "execution_count": 13,
   "id": "b8bb767a",
   "metadata": {},
   "outputs": [
    {
     "data": {
      "text/plain": [
       "datetime.datetime(2016, 4, 15, 8, 27, 18, tzinfo=tzoffset(None, -18000))"
      ]
     },
     "execution_count": 13,
     "metadata": {},
     "output_type": "execute_result"
    }
   ],
   "source": [
    "import dateutil.parser\n",
    "dateutil.parser.parse(\"2016-04-15T08:27:18-0500\")"
   ]
  },
  {
   "cell_type": "markdown",
   "id": "ce2988ee",
   "metadata": {},
   "source": [
    "## Computing time differences"
   ]
  },
  {
   "cell_type": "code",
   "execution_count": 8,
   "id": "8cbd35d6",
   "metadata": {},
   "outputs": [
    {
     "name": "stdout",
     "output_type": "stream",
     "text": [
      "duration 0:00:04.943462\n",
      "duration 4\n"
     ]
    }
   ],
   "source": [
    "from datetime import datetime\n",
    "\n",
    "now = datetime.now()\n",
    "\n",
    "for i in range(int(1E8)):\n",
    "    pass\n",
    "\n",
    "then = datetime.now()\n",
    "duration = then - now\n",
    "print('duration' , duration)\n",
    "print('duration' , duration.seconds)"
   ]
  },
  {
   "cell_type": "markdown",
   "id": "c3c504f6",
   "metadata": {},
   "source": [
    "## Measure execution time of small code snippets\n",
    "https://docs.python.org/3/library/timeit.html"
   ]
  },
  {
   "cell_type": "code",
   "execution_count": 19,
   "id": "5df5ddf4",
   "metadata": {},
   "outputs": [
    {
     "name": "stdout",
     "output_type": "stream",
     "text": [
      "1.1568847589987854 second\n"
     ]
    }
   ],
   "source": [
    "import timeit\n",
    "\n",
    "mysetup = \"from math import sqrt\"\n",
    "\n",
    "mycode = '''\n",
    "mylist = []\n",
    "for x in range(100):\n",
    "    mylist.append(sqrt(x))\n",
    "'''\n",
    " \n",
    "# timeit statement\n",
    "print (timeit.timeit(setup = mysetup,\n",
    "                     stmt = mycode,\n",
    "                     number = 100000) , 'second')"
   ]
  },
  {
   "cell_type": "code",
   "execution_count": 11,
   "id": "02d2c592",
   "metadata": {},
   "outputs": [
    {
     "name": "stdout",
     "output_type": "stream",
     "text": [
      "3.01 s ± 616 ms per loop (mean ± std. dev. of 7 runs, 1 loop each)\n"
     ]
    }
   ],
   "source": [
    "%%timeit\n",
    "for i in range(int(1E8)):\n",
    "    pass"
   ]
  },
  {
   "cell_type": "markdown",
   "id": "db78de2a",
   "metadata": {},
   "source": [
    "## Measure execution memory required of small code snippets"
   ]
  },
  {
   "cell_type": "code",
   "execution_count": 29,
   "id": "5f987957",
   "metadata": {},
   "outputs": [
    {
     "name": "stderr",
     "output_type": "stream",
     "text": [
      "UsageError: Cell magic `%%memit` not found.\n"
     ]
    }
   ],
   "source": [
    "%%memit np.zeros(1e7)"
   ]
  },
  {
   "cell_type": "code",
   "execution_count": null,
   "id": "a2112b4b",
   "metadata": {},
   "outputs": [],
   "source": []
  }
 ],
 "metadata": {
  "kernelspec": {
   "display_name": "Python 3 (ipykernel)",
   "language": "python",
   "name": "python3"
  },
  "language_info": {
   "codemirror_mode": {
    "name": "ipython",
    "version": 3
   },
   "file_extension": ".py",
   "mimetype": "text/x-python",
   "name": "python",
   "nbconvert_exporter": "python",
   "pygments_lexer": "ipython3",
   "version": "3.9.14"
  }
 },
 "nbformat": 4,
 "nbformat_minor": 5
}
