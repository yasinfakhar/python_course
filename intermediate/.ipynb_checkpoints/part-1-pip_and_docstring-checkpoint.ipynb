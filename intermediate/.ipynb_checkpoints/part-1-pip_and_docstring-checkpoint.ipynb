{
 "cells": [
  {
   "cell_type": "markdown",
   "id": "e9ece25d",
   "metadata": {},
   "source": [
    "## String function - str() and repr()\n",
    "There are two functions that can be used to obtain a readable representation of an object.\n",
    "\n",
    "repr(x) calls `x.__repr__()`: a representation of x. eval will usually convert the result of this function back to the\n",
    "original object.\n",
    "\n",
    "str(x) calls `x.__str__()`: a human-readable string that describes the object. This may elide some technical detail."
   ]
  },
  {
   "cell_type": "code",
   "execution_count": 2,
   "id": "f7739dd8",
   "metadata": {},
   "outputs": [
    {
     "data": {
      "text/plain": [
       "True"
      ]
     },
     "execution_count": 2,
     "metadata": {},
     "output_type": "execute_result"
    }
   ],
   "source": [
    "s = \"\"\"w'o\"w\"\"\"\n",
    "repr(s) # Output: '\\'w\\\\\\'o\"w\\''\n",
    "str(s) # Output: 'w\\'o\"w'\n",
    "#eval(str(s)) == s # Gives a SyntaxError\n",
    "eval(repr(s)) == s # Output: True"
   ]
  },
  {
   "cell_type": "code",
   "execution_count": 8,
   "id": "919b4a8a",
   "metadata": {},
   "outputs": [
    {
     "name": "stdout",
     "output_type": "stream",
     "text": [
      "2023-02-14 09:47:35.921157\n",
      "datetime.datetime(2023, 2, 14, 9, 47, 35, 921157)\n"
     ]
    }
   ],
   "source": [
    "import datetime\n",
    "today = datetime.datetime.now()\n",
    "print(str(today)) \n",
    "print(repr(today))"
   ]
  },
  {
   "cell_type": "code",
   "execution_count": 15,
   "id": "e3b06f8f",
   "metadata": {},
   "outputs": [
    {
     "data": {
      "text/plain": [
       "datetime.datetime(2023, 2, 14, 9, 49, 17, 476897)"
      ]
     },
     "execution_count": 15,
     "metadata": {},
     "output_type": "execute_result"
    }
   ],
   "source": [
    "same_obj = eval(repr(today))\n",
    "same_obj.now()"
   ]
  },
  {
   "cell_type": "markdown",
   "id": "d27a28d1",
   "metadata": {},
   "source": [
    "## Finding / installing a package\n",
    "\n",
    "Installing a package is as simple as typing (in a terminal / command-prompt, not in the Python interpreter)\n",
    "* `pip install [package_name]` -> latest version of the package\n",
    "* `pip install [package_name]==x.x.x` -> specific version of the package\n",
    "* `pip install '[package_name]>=x.x.x'` -> minimum version of the package \n",
    "\n",
    "(where x.x.x is the version number of the package you want to install)\n",
    "\n",
    "When your server is behind proxy, you can install package by using below command:` pip --proxy http://<server address>:<port> install`\n",
    "\n",
    "### Upgrading installed packages\n",
    "`pip install [package_name] --upgrade`\n",
    "\n",
    "### Upgrading pip : \n",
    "\n",
    "windows : `python -m pip install -U pip`\n",
    "\n",
    "linux or mac : `pip install -U pip`"
   ]
  },
  {
   "cell_type": "code",
   "execution_count": 19,
   "id": "72d70f80",
   "metadata": {},
   "outputs": [
    {
     "name": "stderr",
     "output_type": "stream",
     "text": [
      "ERROR: XMLRPC request failed [code: -32500]\n",
      "RuntimeError: PyPI no longer supports 'pip search' (or XML-RPC search). Please use https://pypi.org/search (via a browser) instead. See https://warehouse.pypa.io/api-reference/xml-rpc.html#deprecated-methods for more information.\n"
     ]
    }
   ],
   "source": [
    "!pip search opencv-python"
   ]
  },
  {
   "cell_type": "code",
   "execution_count": null,
   "id": "43e2778e",
   "metadata": {},
   "outputs": [],
   "source": []
  }
 ],
 "metadata": {
  "kernelspec": {
   "display_name": "Python 3 (ipykernel)",
   "language": "python",
   "name": "python3"
  },
  "language_info": {
   "codemirror_mode": {
    "name": "ipython",
    "version": 3
   },
   "file_extension": ".py",
   "mimetype": "text/x-python",
   "name": "python",
   "nbconvert_exporter": "python",
   "pygments_lexer": "ipython3",
   "version": "3.8.0"
  }
 },
 "nbformat": 4,
 "nbformat_minor": 5
}
