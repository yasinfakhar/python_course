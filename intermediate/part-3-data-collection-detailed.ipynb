{
 "cells": [
  {
   "cell_type": "markdown",
   "id": "bf960aef",
   "metadata": {},
   "source": [
    "## Operations on sets\n",
    "Note : Set operations return new sets, but have the corresponding in-place versions"
   ]
  },
  {
   "cell_type": "code",
   "execution_count": 1,
   "id": "0e1edad6",
   "metadata": {},
   "outputs": [
    {
     "data": {
      "text/plain": [
       "False"
      ]
     },
     "execution_count": 1,
     "metadata": {},
     "output_type": "execute_result"
    }
   ],
   "source": [
    "# Intersection\n",
    "{1, 2, 3, 4, 5}.intersection({3, 4, 5, 6}) # {3, 4, 5}\n",
    "{1, 2, 3, 4, 5} & {3, 4, 5, 6} # {3, 4, 5}\n",
    "\n",
    "# Union\n",
    "{1, 2, 3, 4, 5}.union({3, 4, 5, 6}) # {1, 2, 3, 4, 5, 6}\n",
    "{1, 2, 3, 4, 5} | {3, 4, 5, 6} # {1, 2, 3, 4, 5, 6}\n",
    "\n",
    "# Difference\n",
    "{1, 2, 3, 4}.difference({2, 3, 5}) # {1, 4}\n",
    "{1, 2, 3, 4} - {2, 3, 5} # {1, 4}\n",
    "\n",
    "# Symmetric difference with\n",
    "{1, 2, 3, 4}.symmetric_difference({2, 3, 5}) # {1, 4, 5}\n",
    "{1, 2, 3, 4} ^ {2, 3, 5} # {1, 4, 5}\n",
    "\n",
    "# Superset check\n",
    "{1, 2}.issuperset({1, 2, 3}) # False\n",
    "{1, 2} >= {1, 2, 3} # False\n",
    "\n",
    "# Subset check\n",
    "{1, 2}.issubset({1, 2, 3}) # True\n",
    "{1, 2} <= {1, 2, 3} # True\n",
    "\n",
    "# Disjoint check\n",
    "{1, 2}.isdisjoint({3, 4}) # True\n",
    "{1, 2}.isdisjoint({1, 4}) # False"
   ]
  },
  {
   "cell_type": "markdown",
   "id": "d6a70e05",
   "metadata": {},
   "source": [
    "### Add and Remove in Set"
   ]
  },
  {
   "cell_type": "code",
   "execution_count": 2,
   "id": "d59f8770",
   "metadata": {},
   "outputs": [
    {
     "ename": "KeyError",
     "evalue": "2",
     "output_type": "error",
     "traceback": [
      "\u001b[1;31m---------------------------------------------------------------------------\u001b[0m",
      "\u001b[1;31mKeyError\u001b[0m                                  Traceback (most recent call last)",
      "Cell \u001b[1;32mIn [2], line 6\u001b[0m\n\u001b[0;32m      4\u001b[0m s\u001b[38;5;241m.\u001b[39mdiscard(\u001b[38;5;241m5\u001b[39m) \u001b[38;5;66;03m# s == {1,2,4}\u001b[39;00m\n\u001b[0;32m      5\u001b[0m s\u001b[38;5;241m.\u001b[39mremove(\u001b[38;5;241m2\u001b[39m) \u001b[38;5;66;03m# s == {1,4}\u001b[39;00m\n\u001b[1;32m----> 6\u001b[0m \u001b[43ms\u001b[49m\u001b[38;5;241;43m.\u001b[39;49m\u001b[43mremove\u001b[49m\u001b[43m(\u001b[49m\u001b[38;5;241;43m2\u001b[39;49m\u001b[43m)\u001b[49m \u001b[38;5;66;03m# KeyError!\u001b[39;00m\n",
      "\u001b[1;31mKeyError\u001b[0m: 2"
     ]
    }
   ],
   "source": [
    "s = {1,2,3}\n",
    "s.add(4) # s == {1,2,3,4}\n",
    "s.discard(3) # s == {1,2,4}\n",
    "s.discard(5) # s == {1,2,4}\n",
    "s.remove(2) # s == {1,4}\n",
    "s.remove(2) # KeyError!"
   ]
  },
  {
   "cell_type": "markdown",
   "id": "ecfb8e6c",
   "metadata": {},
   "source": [
    "## Get the unique elements of a list"
   ]
  },
  {
   "cell_type": "code",
   "execution_count": 3,
   "id": "b159c7e7",
   "metadata": {},
   "outputs": [
    {
     "name": "stdout",
     "output_type": "stream",
     "text": [
      "{'Chicken Chicken', 'Burger King', \"McDonald's\"}\n"
     ]
    }
   ],
   "source": [
    "restaurants = [\"McDonald's\", \"Burger King\", \"McDonald's\", \"Chicken Chicken\"]\n",
    "unique_restaurants = set(restaurants)\n",
    "print(unique_restaurants\n",
    "      \n",
    "# prints {'Chicken Chicken', \"McDonald's\", 'Burger King'}"
   ]
  },
  {
   "cell_type": "code",
   "execution_count": null,
   "id": "8327acc7",
   "metadata": {},
   "outputs": [],
   "source": []
  }
 ],
 "metadata": {
  "kernelspec": {
   "display_name": "Python 3 (ipykernel)",
   "language": "python",
   "name": "python3"
  },
  "language_info": {
   "codemirror_mode": {
    "name": "ipython",
    "version": 3
   },
   "file_extension": ".py",
   "mimetype": "text/x-python",
   "name": "python",
   "nbconvert_exporter": "python",
   "pygments_lexer": "ipython3",
   "version": "3.8.0"
  }
 },
 "nbformat": 4,
 "nbformat_minor": 5
}
