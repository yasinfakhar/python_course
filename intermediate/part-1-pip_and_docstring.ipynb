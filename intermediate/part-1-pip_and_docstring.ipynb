{
 "cells": [
  {
   "cell_type": "markdown",
   "id": "d27a28d1",
   "metadata": {},
   "source": [
    "## Finding / installing a package\n",
    "\n",
    "Installing a package is as simple as typing (in a terminal / command-prompt, not in the Python interpreter)\n",
    "* `pip install [package_name]` -> latest version of the package\n",
    "* `pip install [package_name]==x.x.x` -> specific version of the package\n",
    "* `pip install '[package_name]>=x.x.x'` -> minimum version of the package \n",
    "\n",
    "(where x.x.x is the version number of the package you want to install)\n",
    "\n",
    "When your server is behind proxy, you can install package by using below command:` pip --proxy http://<server address>:<port> install`\n",
    "\n",
    "### Upgrading installed packages\n",
    "`pip install [package_name] --upgrade`\n",
    "\n",
    "### Upgrading pip : \n",
    "\n",
    "windows : `python -m pip install -U pip`\n",
    "\n",
    "linux or mac : `pip install -U pip`"
   ]
  },
  {
   "cell_type": "markdown",
   "id": "644a6e5f",
   "metadata": {},
   "source": [
    "***\n",
    "\n",
    "## `help` function\n",
    "for more information about each package you can use the `help` fucntion"
   ]
  },
  {
   "cell_type": "code",
   "execution_count": null,
   "id": "387b2a28",
   "metadata": {},
   "outputs": [],
   "source": [
    "import sys\n",
    "help(sys)"
   ]
  },
  {
   "cell_type": "markdown",
   "id": "b10054e8",
   "metadata": {},
   "source": [
    "## DocString\n",
    "\n",
    "documents are kind of comments that will be changed to a function or class description. it is usefull for documenting your code.\n",
    "The docstring can be accessed using the `__doc__` attribute:"
   ]
  },
  {
   "cell_type": "code",
   "execution_count": 4,
   "id": "bf2e640f",
   "metadata": {},
   "outputs": [
    {
     "name": "stdout",
     "output_type": "stream",
     "text": [
      "A simple function that add two variables\n"
     ]
    }
   ],
   "source": [
    "def add_method(a,b):\n",
    "    \"\"\"A simple function that add two variables\"\"\"\n",
    "    return a+b\n",
    "\n",
    "print(add_method.__doc__)"
   ]
  },
  {
   "cell_type": "markdown",
   "id": "d1c62fe7",
   "metadata": {},
   "source": [
    "the `help` function provides general information including docstring"
   ]
  },
  {
   "cell_type": "code",
   "execution_count": 5,
   "id": "4c68157a",
   "metadata": {},
   "outputs": [
    {
     "name": "stdout",
     "output_type": "stream",
     "text": [
      "Help on function add_method in module __main__:\n",
      "\n",
      "add_method(a, b)\n",
      "    A simple function that add two variables\n",
      "\n"
     ]
    }
   ],
   "source": [
    "help(add_method)"
   ]
  },
  {
   "cell_type": "code",
   "execution_count": 9,
   "id": "cc3537dd",
   "metadata": {},
   "outputs": [
    {
     "name": "stdout",
     "output_type": "stream",
     "text": [
      "None\n"
     ]
    }
   ],
   "source": [
    "def greet(name, greeting=\"Hello\"):\n",
    "    # Print a greeting to the user `name`\n",
    "    # Optional parameter `greeting` can change what they're greeted with.\n",
    "    print(\"{} {}\".format(greeting, name))\n",
    "    \n",
    "print(greet.__doc__)"
   ]
  },
  {
   "cell_type": "code",
   "execution_count": 10,
   "id": "f218bd8e",
   "metadata": {},
   "outputs": [
    {
     "name": "stdout",
     "output_type": "stream",
     "text": [
      "Help on function greet in module __main__:\n",
      "\n",
      "greet(name, greeting='Hello')\n",
      "\n",
      "None\n"
     ]
    }
   ],
   "source": [
    "print(help(greet))"
   ]
  },
  {
   "cell_type": "markdown",
   "id": "72c64636",
   "metadata": {},
   "source": [
    "## Syntax conventions\n",
    "\n",
    "* PEP 257\n",
    "* Sphinx\n",
    "* Google Python Style Guide"
   ]
  },
  {
   "cell_type": "markdown",
   "id": "4f5c517c",
   "metadata": {},
   "source": [
    "### PEP 257 \n",
    "defines a syntax standard for docstring comments. It basically allows two types:\n",
    "* One-line Docstrings:\n",
    "   \n",
    "According to PEP 257, they should be used with short and simple functions. Everything is placed in one line, e.g:"
   ]
  },
  {
   "cell_type": "code",
   "execution_count": null,
   "id": "f65a7525",
   "metadata": {},
   "outputs": [],
   "source": [
    "def hello():\n",
    "    \"\"\"Say hello to your friends.\"\"\"\n",
    "    print(\"Hello my friends!\")"
   ]
  },
  {
   "cell_type": "markdown",
   "id": "302ffa32",
   "metadata": {},
   "source": [
    "* Multi-line Docstrings:\n",
    "Multi-line docstring should be used for longer, more complex functions, modules or classes."
   ]
  },
  {
   "cell_type": "code",
   "execution_count": 13,
   "id": "7f16370b",
   "metadata": {},
   "outputs": [],
   "source": [
    "def hello(name, language=\"en\"):\n",
    "    \"\"\"Say hello to a person.\n",
    "    \n",
    "    Arguments:\n",
    "    name: the name of the person\n",
    "    language: the language in which the person should be greeted\n",
    "    \"\"\"\n",
    "    print(greeting[language]+\" \"+name)"
   ]
  },
  {
   "cell_type": "markdown",
   "id": "d92cec63",
   "metadata": {},
   "source": [
    "### Sphinx \n",
    "is a tool to generate HTML based documentation for Python projects based on docstrings. Its markup\n",
    "language used is reStructuredText. They define their own standards for documentation, pythonhosted.org hosts a\n",
    "very good description of them. The Sphinx format is for example used by the pyCharm IDE."
   ]
  },
  {
   "cell_type": "code",
   "execution_count": 14,
   "id": "20060899",
   "metadata": {},
   "outputs": [],
   "source": [
    "def hello(name, language=\"en\"):\n",
    "    \"\"\"Say hello to a person.\n",
    "    \n",
    "    :param name: the name of the person\n",
    "    :type name: str\n",
    "    :param language: the language in which the person should be greeted\n",
    "    :type language: st\n",
    "    :return: a number\n",
    "    :rtype: int\n",
    "    \"\"\"\n",
    "    print(greeting[language]+\" \"+name)\n",
    "    return 4"
   ]
  },
  {
   "cell_type": "markdown",
   "id": "7dc48d37",
   "metadata": {},
   "source": [
    "### Google Python Style Guide\n",
    "Google has published Google Python Style Guide which defines coding conventions for Python, including\n",
    "documentation comments. In comparison to the Sphinx/reST many people say that documentation according to\n",
    "Google's guidelines is better human-readable"
   ]
  },
  {
   "cell_type": "code",
   "execution_count": null,
   "id": "3ca941e4",
   "metadata": {},
   "outputs": [],
   "source": [
    "def hello(name, language=\"en\"):\n",
    "    \"\"\"Say hello to a person.\n",
    "    \n",
    "    Args:\n",
    "        name: the name of the person as string\n",
    "        language: the language code string\n",
    "    Returns:\n",
    "        A number.\n",
    "    \"\"\"\n",
    "    print(greeting[language]+\" \"+name)\n",
    "    return 4"
   ]
  }
 ],
 "metadata": {
  "kernelspec": {
   "display_name": "Python 3 (ipykernel)",
   "language": "python",
   "name": "python3"
  },
  "language_info": {
   "codemirror_mode": {
    "name": "ipython",
    "version": 3
   },
   "file_extension": ".py",
   "mimetype": "text/x-python",
   "name": "python",
   "nbconvert_exporter": "python",
   "pygments_lexer": "ipython3",
   "version": "3.8.0"
  }
 },
 "nbformat": 4,
 "nbformat_minor": 5
}
